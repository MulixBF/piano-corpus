{
 "cells": [
  {
   "cell_type": "code",
   "execution_count": 119,
   "metadata": {
    "collapsed": true
   },
   "outputs": [],
   "source": [
    "import pandas as pd\n",
    "import numpy as np"
   ]
  },
  {
   "cell_type": "code",
   "execution_count": 2,
   "metadata": {
    "collapsed": false
   },
   "outputs": [
    {
     "data": {
      "text/html": [
       "<div>\n",
       "<table border=\"1\" class=\"dataframe\">\n",
       "  <thead>\n",
       "    <tr style=\"text-align: right;\">\n",
       "      <th></th>\n",
       "      <th>name</th>\n",
       "      <th>composer</th>\n",
       "      <th>genre</th>\n",
       "      <th>key</th>\n",
       "      <th>year</th>\n",
       "      <th>instruments</th>\n",
       "      <th>details_url</th>\n",
       "      <th>tags</th>\n",
       "      <th>catalogue_code</th>\n",
       "      <th>file_urls</th>\n",
       "      <th>raw_file_path</th>\n",
       "      <th>source_url</th>\n",
       "      <th>processed_file_path</th>\n",
       "    </tr>\n",
       "  </thead>\n",
       "  <tbody>\n",
       "    <tr>\n",
       "      <th>0</th>\n",
       "      <td>N6e. Chopin, Mazurka, op. 41 no. 2, mm. 1-8</td>\n",
       "      <td>Chopin, Frederic</td>\n",
       "      <td>NaN</td>\n",
       "      <td>a minor</td>\n",
       "      <td>NaN</td>\n",
       "      <td>NaN</td>\n",
       "      <td>http://kern.ccarh.org/cgi-bin/ksdata?location=...</td>\n",
       "      <td>NaN</td>\n",
       "      <td>NaN</td>\n",
       "      <td>http://kern.humdrum.org/cgi-bin/ksdata?l=users...</td>\n",
       "      <td>data/files_kernscores/859c17427b612d62aac51ab1...</td>\n",
       "      <td>http://kern.humdrum.org/cgi-bin/ksdata?l=users...</td>\n",
       "      <td>data/normalized/859c17427b612d62aac51ab14ad809...</td>\n",
       "    </tr>\n",
       "    <tr>\n",
       "      <th>1</th>\n",
       "      <td>Mazurka in C-sharp Minor, Op. 63, No. 3</td>\n",
       "      <td>Chopin, Frederic</td>\n",
       "      <td>NaN</td>\n",
       "      <td>c# minor</td>\n",
       "      <td>1846</td>\n",
       "      <td>NaN</td>\n",
       "      <td>http://kern.ccarh.org/cgi-bin/ksdata?location=...</td>\n",
       "      <td>NaN</td>\n",
       "      <td>NaN</td>\n",
       "      <td>http://kern.humdrum.org/cgi-bin/ksdata?l=users...</td>\n",
       "      <td>data/files_kernscores/c05aff259adc395acca7cb42...</td>\n",
       "      <td>http://kern.humdrum.org/cgi-bin/ksdata?l=users...</td>\n",
       "      <td>data/normalized/c05aff259adc395acca7cb42cff8b9...</td>\n",
       "    </tr>\n",
       "    <tr>\n",
       "      <th>2</th>\n",
       "      <td>Fugue</td>\n",
       "      <td>Bach, Johann Sebastian</td>\n",
       "      <td>Baroque</td>\n",
       "      <td>b minor</td>\n",
       "      <td>1742</td>\n",
       "      <td>NaN</td>\n",
       "      <td>http://kern.humdrum.org/cgi-bin/ksdata?file=wt...</td>\n",
       "      <td>NaN</td>\n",
       "      <td>BWV 893</td>\n",
       "      <td>http://kern.humdrum.org/cgi-bin/ksdata?l=mused...</td>\n",
       "      <td>data/files_kernscores/cd1f471606732412448ecafc...</td>\n",
       "      <td>http://kern.humdrum.org/cgi-bin/ksdata?l=mused...</td>\n",
       "      <td>data/normalized/cd1f471606732412448ecafc853a2b...</td>\n",
       "    </tr>\n",
       "    <tr>\n",
       "      <th>3</th>\n",
       "      <td>Piano Sonata No. 3 in B-flat major</td>\n",
       "      <td>Mozart, Wolfgang Amadeus</td>\n",
       "      <td>NaN</td>\n",
       "      <td>B- major</td>\n",
       "      <td>1774</td>\n",
       "      <td>NaN</td>\n",
       "      <td>http://kern.humdrum.org/cgi-bin/ksdata?file=so...</td>\n",
       "      <td>NaN</td>\n",
       "      <td>K</td>\n",
       "      <td>http://kern.humdrum.org/cgi-bin/ksdata?l=users...</td>\n",
       "      <td>data/files_kernscores/fa8b6eb1aa5e7a31156d2e9f...</td>\n",
       "      <td>http://kern.humdrum.org/cgi-bin/ksdata?l=users...</td>\n",
       "      <td>data/normalized/fa8b6eb1aa5e7a31156d2e9fcf4721...</td>\n",
       "    </tr>\n",
       "    <tr>\n",
       "      <th>4</th>\n",
       "      <td>Fugue</td>\n",
       "      <td>Bach, Johann Sebastian</td>\n",
       "      <td>Baroque</td>\n",
       "      <td>g# minor</td>\n",
       "      <td>1742</td>\n",
       "      <td>NaN</td>\n",
       "      <td>http://kern.humdrum.org/cgi-bin/ksdata?file=wt...</td>\n",
       "      <td>NaN</td>\n",
       "      <td>BWV 892</td>\n",
       "      <td>http://kern.humdrum.org/cgi-bin/ksdata?l=mused...</td>\n",
       "      <td>data/files_kernscores/5e5c35310383699098841f2a...</td>\n",
       "      <td>http://kern.humdrum.org/cgi-bin/ksdata?l=mused...</td>\n",
       "      <td>data/normalized/5e5c35310383699098841f2a7760a6...</td>\n",
       "    </tr>\n",
       "  </tbody>\n",
       "</table>\n",
       "</div>"
      ],
      "text/plain": [
       "                                          name                  composer  \\\n",
       "0  N6e. Chopin, Mazurka, op. 41 no. 2, mm. 1-8          Chopin, Frederic   \n",
       "1      Mazurka in C-sharp Minor, Op. 63, No. 3          Chopin, Frederic   \n",
       "2                                        Fugue    Bach, Johann Sebastian   \n",
       "3           Piano Sonata No. 3 in B-flat major  Mozart, Wolfgang Amadeus   \n",
       "4                                        Fugue    Bach, Johann Sebastian   \n",
       "\n",
       "     genre       key  year instruments  \\\n",
       "0      NaN   a minor   NaN         NaN   \n",
       "1      NaN  c# minor  1846         NaN   \n",
       "2  Baroque   b minor  1742         NaN   \n",
       "3      NaN  B- major  1774         NaN   \n",
       "4  Baroque  g# minor  1742         NaN   \n",
       "\n",
       "                                         details_url  tags catalogue_code  \\\n",
       "0  http://kern.ccarh.org/cgi-bin/ksdata?location=...   NaN            NaN   \n",
       "1  http://kern.ccarh.org/cgi-bin/ksdata?location=...   NaN            NaN   \n",
       "2  http://kern.humdrum.org/cgi-bin/ksdata?file=wt...   NaN        BWV 893   \n",
       "3  http://kern.humdrum.org/cgi-bin/ksdata?file=so...   NaN              K   \n",
       "4  http://kern.humdrum.org/cgi-bin/ksdata?file=wt...   NaN        BWV 892   \n",
       "\n",
       "                                           file_urls  \\\n",
       "0  http://kern.humdrum.org/cgi-bin/ksdata?l=users...   \n",
       "1  http://kern.humdrum.org/cgi-bin/ksdata?l=users...   \n",
       "2  http://kern.humdrum.org/cgi-bin/ksdata?l=mused...   \n",
       "3  http://kern.humdrum.org/cgi-bin/ksdata?l=users...   \n",
       "4  http://kern.humdrum.org/cgi-bin/ksdata?l=mused...   \n",
       "\n",
       "                                       raw_file_path  \\\n",
       "0  data/files_kernscores/859c17427b612d62aac51ab1...   \n",
       "1  data/files_kernscores/c05aff259adc395acca7cb42...   \n",
       "2  data/files_kernscores/cd1f471606732412448ecafc...   \n",
       "3  data/files_kernscores/fa8b6eb1aa5e7a31156d2e9f...   \n",
       "4  data/files_kernscores/5e5c35310383699098841f2a...   \n",
       "\n",
       "                                          source_url  \\\n",
       "0  http://kern.humdrum.org/cgi-bin/ksdata?l=users...   \n",
       "1  http://kern.humdrum.org/cgi-bin/ksdata?l=users...   \n",
       "2  http://kern.humdrum.org/cgi-bin/ksdata?l=mused...   \n",
       "3  http://kern.humdrum.org/cgi-bin/ksdata?l=users...   \n",
       "4  http://kern.humdrum.org/cgi-bin/ksdata?l=mused...   \n",
       "\n",
       "                                 processed_file_path  \n",
       "0  data/normalized/859c17427b612d62aac51ab14ad809...  \n",
       "1  data/normalized/c05aff259adc395acca7cb42cff8b9...  \n",
       "2  data/normalized/cd1f471606732412448ecafc853a2b...  \n",
       "3  data/normalized/fa8b6eb1aa5e7a31156d2e9fcf4721...  \n",
       "4  data/normalized/5e5c35310383699098841f2a7760a6...  "
      ]
     },
     "execution_count": 2,
     "metadata": {},
     "output_type": "execute_result"
    }
   ],
   "source": [
    "metadata = pd.read_csv('all_metadata.csv')\n",
    "metadata.head()"
   ]
  },
  {
   "cell_type": "code",
   "execution_count": 3,
   "metadata": {
    "collapsed": false
   },
   "outputs": [
    {
     "data": {
      "text/plain": [
       "1196"
      ]
     },
     "execution_count": 3,
     "metadata": {},
     "output_type": "execute_result"
    }
   ],
   "source": [
    "len(metadata.index)"
   ]
  },
  {
   "cell_type": "code",
   "execution_count": 4,
   "metadata": {
    "collapsed": false
   },
   "outputs": [
    {
     "name": "stderr",
     "output_type": "stream",
     "text": [
      "/usr/lib/python3.5/site-packages/ipykernel/__main__.py:2: SettingWithCopyWarning: \n",
      "A value is trying to be set on a copy of a slice from a DataFrame\n",
      "\n",
      "See the caveats in the documentation: http://pandas.pydata.org/pandas-docs/stable/indexing.html#indexing-view-versus-copy\n",
      "  from ipykernel import kernelapp as app\n"
     ]
    }
   ],
   "source": [
    "# Carl Philipp Emanuel Bach\n",
    "metadata.composer[metadata['composer'] == 'C. P. E. Bach'] = 'cpe_bach'"
   ]
  },
  {
   "cell_type": "code",
   "execution_count": 5,
   "metadata": {
    "collapsed": true
   },
   "outputs": [],
   "source": [
    "import re\n",
    "from unidecode import unidecode\n",
    "\n",
    "def remove_initials(string):\n",
    "    return re.sub('\\s*\\w\\.\\s*', '', string)\n",
    "\n",
    "def normalize_composer_name(composer_name):\n",
    "    composer_name = remove_initials(composer_name)\n",
    "    composer_name = unidecode(composer_name)\n",
    "    composer_name = composer_name.lower()\n",
    "    return composer_name.split(',')[0]"
   ]
  },
  {
   "cell_type": "code",
   "execution_count": 6,
   "metadata": {
    "collapsed": true
   },
   "outputs": [],
   "source": [
    "metadata['composer'] = metadata['composer'].map(normalize_composer_name)"
   ]
  },
  {
   "cell_type": "code",
   "execution_count": 7,
   "metadata": {
    "collapsed": false
   },
   "outputs": [],
   "source": [
    "composers = metadata['composer'].unique()"
   ]
  },
  {
   "cell_type": "code",
   "execution_count": 8,
   "metadata": {
    "collapsed": false
   },
   "outputs": [
    {
     "name": "stderr",
     "output_type": "stream",
     "text": [
      "/usr/lib/python3.5/site-packages/ipykernel/__main__.py:2: UserWarning: This pattern has match groups. To actually get the groups, use str.extract.\n",
      "  from ipykernel import kernelapp as app\n"
     ]
    },
    {
     "data": {
      "text/plain": [
       "0             N6e. Chopin, Mazurka, op. 41 no. 2, mm. 1-8\n",
       "384     Reminiscences de Don Juan\\n(Fantasia on Mozart...\n",
       "419     53 Studies on Études on Frédéric Chopin\\n(1914...\n",
       "429     M. P. Heller: Joy of Christmas\\n(Christmas Fan...\n",
       "430     Gustav Lange: To Christmas\\n(Fantasia)\\n, Opus...\n",
       "434     Ferd. Keller: Christmas Fantasia Christmas Fan...\n",
       "435     Robert Leonard: Christmas Fantasia, Opus 99 Ch...\n",
       "441     Lyric Pieces Book III, Opus 43\\n(1886)\\n No. 2...\n",
       "487     The Seasons, Opus 37a\\n(1876)\\n December - Chr...\n",
       "1025                             Fugue sur le nom de Bach\n",
       "Name: name, dtype: object"
      ]
     },
     "execution_count": 8,
     "metadata": {},
     "output_type": "execute_result"
    }
   ],
   "source": [
    "composer_name_regex = '|'.join(composers)\n",
    "metadata['name'][metadata['name'].str.contains(composer_name_regex, case=False)]"
   ]
  },
  {
   "cell_type": "code",
   "execution_count": 9,
   "metadata": {
    "collapsed": false
   },
   "outputs": [],
   "source": [
    "def extract_year_from_title(title_string):\n",
    "    match = re.search('\\((\\d{4})\\)', title_string)\n",
    "    if match:\n",
    "        return int(match.group(1))\n",
    "    \n",
    "    return None"
   ]
  },
  {
   "cell_type": "code",
   "execution_count": 10,
   "metadata": {
    "collapsed": false
   },
   "outputs": [
    {
     "data": {
      "text/plain": [
       "1797"
      ]
     },
     "execution_count": 10,
     "metadata": {},
     "output_type": "execute_result"
    }
   ],
   "source": [
    "extract_year_from_title('Sonatina Opus 36 No. 1, Opus 36\\n(1797)\\n')"
   ]
  },
  {
   "cell_type": "code",
   "execution_count": 190,
   "metadata": {
    "collapsed": false
   },
   "outputs": [],
   "source": [
    "#metadata['year'] = pd.read_csv('all_metadata.csv')['year']"
   ]
  },
  {
   "cell_type": "code",
   "execution_count": 12,
   "metadata": {
    "collapsed": false
   },
   "outputs": [],
   "source": [
    "years_from_title = metadata['name'].map(extract_year_from_title)\n",
    "\n",
    "for index, row in metadata[years_from_title.notnull() & metadata['year'].notnull()].iterrows():\n",
    "    raise Exception('Warning! Year present both in name ({0}) and in metadata ({1})'.format(row['name'], row['year']))\n",
    "\n",
    "metadata['year'] = metadata['year'].fillna(years_from_title)"
   ]
  },
  {
   "cell_type": "code",
   "execution_count": 13,
   "metadata": {
    "collapsed": false
   },
   "outputs": [],
   "source": [
    "metadata.ix[0, 'year'] = '1838'\n",
    "metadata.ix[21, 'year'] = '1738'\n",
    "metadata.ix[28, 'year'] = '1817'\n",
    "metadata.ix[29, 'year'] = '1816'\n",
    "metadata.ix[30, 'year'] = '1816'\n",
    "metadata.ix[31, 'year'] = '1817'\n",
    "metadata.ix[32, 'year'] = '1801'\n",
    "metadata.ix[38, 'year'] = '1801'\n",
    "metadata.ix[39, 'year'] = '1801'\n",
    "metadata.ix[40, 'year'] = '1788'\n",
    "metadata.ix[41, 'year'] = '1800'"
   ]
  },
  {
   "cell_type": "code",
   "execution_count": 163,
   "metadata": {
    "collapsed": false
   },
   "outputs": [],
   "source": [
    "def extract_year(year_obj):\n",
    "    \n",
    "    if not year_obj or str(year_obj) == 'nan':\n",
    "        return None, False\n",
    "    \n",
    "    try:\n",
    "        int_year = int(year_obj)\n",
    "        return int_year, True\n",
    "    except Exception:\n",
    "        pass\n",
    "    \n",
    "    try:\n",
    "        int_year = math.floor(year_obj)\n",
    "        return int_year, True\n",
    "    except Exception:\n",
    "        pass\n",
    "    \n",
    "    match = re.search('(~|c|around|c.)?\\s*(\\d{4})\\??', year_obj) # year with ~ or ?\n",
    "    if match:\n",
    "        return int(match.groups()[1]), False\n",
    "    \n",
    "    match = re.search('(\\d{4})-\\d{1,4}', year_obj) # year period. Return lower bound\n",
    "    if match:\n",
    "        return int(match.groups()[0]), False\n",
    "    \n",
    "    match = re.search('.+-(\\d{4})', year_obj) # year period. Return lower bound\n",
    "    if match:\n",
    "        return int(match.groups()[0]), False\n",
    "    \n",
    "    \n",
    "    match = re.search('(\\d{4})/\\w{2,4}', year_obj) # exact date\n",
    "    if match:\n",
    "        return int(match.groups()[0]), True\n",
    "    \n",
    "    match = re.search('\\w{3,4}\\.*(\\d{4})', year_obj) # month and year\n",
    "    if match:\n",
    "        return int(match.groups()[0]), True\n",
    "    \n",
    "    match = re.search('(\\d{2})th', year_obj) # century\n",
    "    if match:\n",
    "        return int(match.groups()[0]) * 100 - 50, False\n",
    "    \n",
    "    return None, False"
   ]
  },
  {
   "cell_type": "code",
   "execution_count": 191,
   "metadata": {
    "collapsed": false
   },
   "outputs": [],
   "source": [
    "extracted_years = metadata['year'].map(extract_year)\n",
    "\n",
    "# todo: there should be a better way...\n",
    "metadata['year'] = pd.to_numeric(extracted_years.map(lambda x: x[0]))\n",
    "metadata['year_exact'] = extracted_years.map(lambda x: x[1])"
   ]
  },
  {
   "cell_type": "code",
   "execution_count": 173,
   "metadata": {
    "collapsed": false
   },
   "outputs": [
    {
     "name": "stderr",
     "output_type": "stream",
     "text": [
      "/usr/lib/python3.5/site-packages/ipykernel/__main__.py:15: SettingWithCopyWarning: \n",
      "A value is trying to be set on a copy of a slice from a DataFrame.\n",
      "Try using .loc[row_indexer,col_indexer] = value instead\n",
      "\n",
      "See the caveats in the documentation: http://pandas.pydata.org/pandas-docs/stable/indexing.html#indexing-view-versus-copy\n"
     ]
    }
   ],
   "source": [
    "from collections import namedtuple\n",
    "\n",
    "Period = namedtuple('Period', ['start', 'end'])\n",
    "\n",
    "music_periods = { # this is not exactly exact. MUST DOUBLE CHECK AFTER\n",
    "    'baroque': Period(1600, 1750), \n",
    "    'classicism': Period(1750, 1820), \n",
    "    'romanticism': Period(1820, 1890), \n",
    "    'modern': Period(1890, 1950),\n",
    "    'folk': Period(1000, 1600),\n",
    "    'jazz': Period(0, 0) # sorry jazz. i love you it is just not your day\n",
    "}\n",
    "\n",
    "metadata['period'] = metadata['genre'].map(lambda x: x.lower() if x else None)\n",
    "metadata[~metadata['period'].isin(music_periods.keys())]['period'] = None\n",
    "metadata[metadata['period'] == 'romantic']['genre'] = 'romanticism'"
   ]
  },
  {
   "cell_type": "code",
   "execution_count": 328,
   "metadata": {
    "collapsed": false
   },
   "outputs": [],
   "source": [
    "def get_form_from_title(title_string):\n",
    "    if not title_string:\n",
    "        return None\n",
    "    \n",
    "    title_string = unidecode(title_string)\n",
    "    for form in musical_forms:\n",
    "        if re.search(form, title_string, re.IGNORECASE):\n",
    "            return form\n",
    "    \n",
    "    return None"
   ]
  },
  {
   "cell_type": "code",
   "execution_count": 331,
   "metadata": {
    "collapsed": false
   },
   "outputs": [],
   "source": [
    "musical_forms = [\n",
    "    'rag',\n",
    "    'sonata',\n",
    "    'sonatina',\n",
    "    'rhapsod',\n",
    "    'suite',\n",
    "    'canon',\n",
    "    'nocturne',\n",
    "    'valse',\n",
    "    'ballad',\n",
    "    'polonaise',\n",
    "    'fantasia',\n",
    "    'song', \n",
    "    'march', \n",
    "    'technique', \n",
    "    'etude', \n",
    "    'mazurka', \n",
    "    'fugue', \n",
    "    'rondo',\n",
    "    'prelude']\n",
    "\n",
    "metadata['musical_form'] = metadata['genre'].map(lambda x: get_form_from_title(str(x)))"
   ]
  },
  {
   "cell_type": "code",
   "execution_count": 333,
   "metadata": {
    "collapsed": false
   },
   "outputs": [],
   "source": [
    "metadata['musical_form'] = metadata['musical_form'].fillna(metadata['name'].map(get_form_from_title))"
   ]
  },
  {
   "cell_type": "code",
   "execution_count": 205,
   "metadata": {
    "collapsed": true
   },
   "outputs": [],
   "source": [
    "def get_period_by_year(year):\n",
    "    if not year or year is None or str(year) == 'nan':\n",
    "        return None\n",
    "    \n",
    "    for period_name, period_dates in music_periods.items():\n",
    "        if period_dates.start <= year <= period_dates.end:\n",
    "            return period_name\n",
    "        \n",
    "    return None"
   ]
  },
  {
   "cell_type": "code",
   "execution_count": 207,
   "metadata": {
    "collapsed": true
   },
   "outputs": [],
   "source": [
    "metadata['period'] = metadata['period'].fillna(metadata['year'].map(get_period_by_year))"
   ]
  },
  {
   "cell_type": "code",
   "execution_count": 221,
   "metadata": {
    "collapsed": false
   },
   "outputs": [
    {
     "name": "stdout",
     "output_type": "stream",
     "text": [
      "\n",
      "definite_composers composer\n",
      "albeniz            [romanticism]\n",
      "andre               [classicism]\n",
      "anonymous          [romanticism]\n",
      "ascher                  [modern]\n",
      "balakirew          [romanticism]\n",
      "benda               [classicism]\n",
      "bizet              [romanticism]\n",
      "borodin            [romanticism]\n",
      "brahms             [romanticism]\n",
      "brown                   [modern]\n",
      "burgmueller        [romanticism]\n",
      "burgmuller         [romanticism]\n",
      "chopin             [romanticism]\n",
      "comeau                    [folk]\n",
      "cpebach             [classicism]\n",
      "doonan                    [jazz]\n",
      "fischer                [baroque]\n",
      "godowsky           [romanticism]\n",
      "granados           [romanticism]\n",
      "handel                 [baroque]\n",
      "hanon              [romanticism]\n",
      "haydn               [classicism]\n",
      "hunter                    [jazz]\n",
      "kruetzer           [romanticism]\n",
      "kuhlau             [romanticism]\n",
      "liszt              [romanticism]\n",
      "mendelssohn        [romanticism]\n",
      "moszkowski         [romanticism]\n",
      "muller              [classicism]\n",
      "mussorgsky         [romanticism]\n",
      "pachelbel              [baroque]\n",
      "pease              [romanticism]\n",
      "pleyel              [classicism]\n",
      "rachmaninoff            [modern]\n",
      "rachmaninov        [romanticism]\n",
      "rameau                 [baroque]\n",
      "ravel              [romanticism]\n",
      "rimsky-korsakov    [romanticism]\n",
      "scarlatti              [baroque]\n",
      "sidwell                   [jazz]\n",
      "sinding            [romanticism]\n",
      "spagnoletti        [romanticism]\n",
      "stanchinsky             [modern]\n",
      "strauss j          [romanticism]\n",
      "tchaikovsky        [romanticism]\n",
      "traditional               [folk]\n",
      "turpin                    [jazz]\n",
      "wanhal              [classicism]\n",
      "yaniewicz          [romanticism]\n",
      "Name: period, dtype: object\n",
      "\n",
      "ambiguous_composers composer\n",
      "bach                         [baroque, classicism]\n",
      "beethoven                [romanticism, classicism]\n",
      "clementi                 [classicism, romanticism]\n",
      "debussy                      [romanticism, modern]\n",
      "grieg                        [romanticism, modern]\n",
      "joplin                              [modern, jazz]\n",
      "mendelssohn-bartholdy    [romanticism, classicism]\n",
      "mozart                   [classicism, romanticism]\n",
      "satie                        [modern, romanticism]\n",
      "schubert                 [romanticism, classicism]\n",
      "schumann                 [romanticism, classicism]\n",
      "scriabin                     [modern, romanticism]\n",
      "sousa                        [modern, romanticism]\n",
      "Name: period, dtype: object\n",
      "\n",
      "unknown_composers composer\n",
      "adam                     []\n",
      "blumenthal               []\n",
      "christmas                []\n",
      "czerny                   []\n",
      "diabelli                 []\n",
      "dussek                   []\n",
      "gottschalk               []\n",
      "iliev                    []\n",
      "kumar                    []\n",
      "magnenat                 []\n",
      "minkus                   []\n",
      "pejacsevich              []\n",
      "streabbog (gobbaerts)    []\n",
      "verdi                    []\n",
      "Name: period, dtype: object\n"
     ]
    }
   ],
   "source": [
    "# map map map over map\n",
    "# see map map in the map\n",
    "# map grabs map by map\n",
    "# mapmapmap mapmap mapmap\n",
    "\n",
    "period_by_composer = metadata.groupby(by=['composer'])['period'].unique()\n",
    "period_by_composer = period_by_composer.map(lambda periods: [x for x in periods if x is not None])\n",
    "period_by_composer = period_by_composer.map(lambda periods: (len(periods), periods))\n",
    "\n",
    "definite_composers = period_by_composer[period_by_composer.map(lambda x: x[0]) == 1].map(lambda x: x[1])\n",
    "print('\\ndefinite_composers', definite_composers)\n",
    "\n",
    "ambiguous_composers = period_by_composer[period_by_composer.map(lambda x: x[0]) > 1].map(lambda x: x[1])\n",
    "print('\\nambiguous_composers', ambiguous_composers)\n",
    "\n",
    "unknown_composers = period_by_composer[period_by_composer.map(lambda x: x[0]) == 0].map(lambda x: x[1])\n",
    "print('\\nunknown_composers', unknown_composers)"
   ]
  },
  {
   "cell_type": "code",
   "execution_count": 232,
   "metadata": {
    "collapsed": false
   },
   "outputs": [],
   "source": [
    "definite_periods = metadata[metadata['composer'].isin(definite_composers.index)]['composer'].map(lambda x: definite_composers[x][0])\n",
    "metadata['period'] = metadata['period'].fillna(definite_periods)"
   ]
  },
  {
   "cell_type": "code",
   "execution_count": 346,
   "metadata": {
    "collapsed": false
   },
   "outputs": [],
   "source": [
    "import os.path\n",
    "metadata['filename'] = metadata['processed_file_path'].map(lambda x: os.path.basename(str(x)))"
   ]
  },
  {
   "cell_type": "code",
   "execution_count": 352,
   "metadata": {
    "collapsed": false
   },
   "outputs": [],
   "source": [
    "del metadata['processed_file_path']\n",
    "del metadata['raw_file_path']"
   ]
  },
  {
   "cell_type": "code",
   "execution_count": 353,
   "metadata": {
    "collapsed": true
   },
   "outputs": [],
   "source": [
    "metadata.to_csv('cleaned_metadata.csv')"
   ]
  },
  {
   "cell_type": "code",
   "execution_count": 354,
   "metadata": {
    "collapsed": false
   },
   "outputs": [
    {
     "data": {
      "text/html": [
       "<div>\n",
       "<table border=\"1\" class=\"dataframe\">\n",
       "  <thead>\n",
       "    <tr style=\"text-align: right;\">\n",
       "      <th></th>\n",
       "      <th>name</th>\n",
       "      <th>composer</th>\n",
       "      <th>key</th>\n",
       "      <th>year</th>\n",
       "      <th>instruments</th>\n",
       "      <th>details_url</th>\n",
       "      <th>tags</th>\n",
       "      <th>catalogue_code</th>\n",
       "      <th>file_urls</th>\n",
       "      <th>source_url</th>\n",
       "      <th>period</th>\n",
       "      <th>year_exact</th>\n",
       "      <th>musical_form</th>\n",
       "      <th>filename</th>\n",
       "    </tr>\n",
       "  </thead>\n",
       "  <tbody>\n",
       "    <tr>\n",
       "      <th>0</th>\n",
       "      <td>N6e. Chopin, Mazurka, op. 41 no. 2, mm. 1-8</td>\n",
       "      <td>chopin</td>\n",
       "      <td>a minor</td>\n",
       "      <td>NaN</td>\n",
       "      <td>NaN</td>\n",
       "      <td>http://kern.ccarh.org/cgi-bin/ksdata?location=...</td>\n",
       "      <td>NaN</td>\n",
       "      <td>NaN</td>\n",
       "      <td>http://kern.humdrum.org/cgi-bin/ksdata?l=users...</td>\n",
       "      <td>http://kern.humdrum.org/cgi-bin/ksdata?l=users...</td>\n",
       "      <td>romanticism</td>\n",
       "      <td>False</td>\n",
       "      <td>mazurka</td>\n",
       "      <td>859c17427b612d62aac51ab14ad809c7ff62d722.xml</td>\n",
       "    </tr>\n",
       "    <tr>\n",
       "      <th>1</th>\n",
       "      <td>Mazurka in C-sharp Minor, Op. 63, No. 3</td>\n",
       "      <td>chopin</td>\n",
       "      <td>c# minor</td>\n",
       "      <td>1846</td>\n",
       "      <td>NaN</td>\n",
       "      <td>http://kern.ccarh.org/cgi-bin/ksdata?location=...</td>\n",
       "      <td>NaN</td>\n",
       "      <td>NaN</td>\n",
       "      <td>http://kern.humdrum.org/cgi-bin/ksdata?l=users...</td>\n",
       "      <td>http://kern.humdrum.org/cgi-bin/ksdata?l=users...</td>\n",
       "      <td>romanticism</td>\n",
       "      <td>True</td>\n",
       "      <td>mazurka</td>\n",
       "      <td>c05aff259adc395acca7cb42cff8b941f63dfb0a.xml</td>\n",
       "    </tr>\n",
       "    <tr>\n",
       "      <th>2</th>\n",
       "      <td>Fugue</td>\n",
       "      <td>bach</td>\n",
       "      <td>b minor</td>\n",
       "      <td>1742</td>\n",
       "      <td>NaN</td>\n",
       "      <td>http://kern.humdrum.org/cgi-bin/ksdata?file=wt...</td>\n",
       "      <td>NaN</td>\n",
       "      <td>BWV 893</td>\n",
       "      <td>http://kern.humdrum.org/cgi-bin/ksdata?l=mused...</td>\n",
       "      <td>http://kern.humdrum.org/cgi-bin/ksdata?l=mused...</td>\n",
       "      <td>baroque</td>\n",
       "      <td>True</td>\n",
       "      <td>fugue</td>\n",
       "      <td>cd1f471606732412448ecafc853a2b68da0c95f8.xml</td>\n",
       "    </tr>\n",
       "    <tr>\n",
       "      <th>3</th>\n",
       "      <td>Piano Sonata No. 3 in B-flat major</td>\n",
       "      <td>mozart</td>\n",
       "      <td>B- major</td>\n",
       "      <td>1774</td>\n",
       "      <td>NaN</td>\n",
       "      <td>http://kern.humdrum.org/cgi-bin/ksdata?file=so...</td>\n",
       "      <td>NaN</td>\n",
       "      <td>K</td>\n",
       "      <td>http://kern.humdrum.org/cgi-bin/ksdata?l=users...</td>\n",
       "      <td>http://kern.humdrum.org/cgi-bin/ksdata?l=users...</td>\n",
       "      <td>classicism</td>\n",
       "      <td>True</td>\n",
       "      <td>sonata</td>\n",
       "      <td>fa8b6eb1aa5e7a31156d2e9fcf47218dc699e0eb.xml</td>\n",
       "    </tr>\n",
       "    <tr>\n",
       "      <th>4</th>\n",
       "      <td>Fugue</td>\n",
       "      <td>bach</td>\n",
       "      <td>g# minor</td>\n",
       "      <td>1742</td>\n",
       "      <td>NaN</td>\n",
       "      <td>http://kern.humdrum.org/cgi-bin/ksdata?file=wt...</td>\n",
       "      <td>NaN</td>\n",
       "      <td>BWV 892</td>\n",
       "      <td>http://kern.humdrum.org/cgi-bin/ksdata?l=mused...</td>\n",
       "      <td>http://kern.humdrum.org/cgi-bin/ksdata?l=mused...</td>\n",
       "      <td>baroque</td>\n",
       "      <td>True</td>\n",
       "      <td>fugue</td>\n",
       "      <td>5e5c35310383699098841f2a7760a6f6e0a09a36.xml</td>\n",
       "    </tr>\n",
       "  </tbody>\n",
       "</table>\n",
       "</div>"
      ],
      "text/plain": [
       "                                          name composer       key  year  \\\n",
       "0  N6e. Chopin, Mazurka, op. 41 no. 2, mm. 1-8   chopin   a minor   NaN   \n",
       "1      Mazurka in C-sharp Minor, Op. 63, No. 3   chopin  c# minor  1846   \n",
       "2                                        Fugue     bach   b minor  1742   \n",
       "3           Piano Sonata No. 3 in B-flat major   mozart  B- major  1774   \n",
       "4                                        Fugue     bach  g# minor  1742   \n",
       "\n",
       "  instruments                                        details_url  tags  \\\n",
       "0         NaN  http://kern.ccarh.org/cgi-bin/ksdata?location=...   NaN   \n",
       "1         NaN  http://kern.ccarh.org/cgi-bin/ksdata?location=...   NaN   \n",
       "2         NaN  http://kern.humdrum.org/cgi-bin/ksdata?file=wt...   NaN   \n",
       "3         NaN  http://kern.humdrum.org/cgi-bin/ksdata?file=so...   NaN   \n",
       "4         NaN  http://kern.humdrum.org/cgi-bin/ksdata?file=wt...   NaN   \n",
       "\n",
       "  catalogue_code                                          file_urls  \\\n",
       "0            NaN  http://kern.humdrum.org/cgi-bin/ksdata?l=users...   \n",
       "1            NaN  http://kern.humdrum.org/cgi-bin/ksdata?l=users...   \n",
       "2        BWV 893  http://kern.humdrum.org/cgi-bin/ksdata?l=mused...   \n",
       "3              K  http://kern.humdrum.org/cgi-bin/ksdata?l=users...   \n",
       "4        BWV 892  http://kern.humdrum.org/cgi-bin/ksdata?l=mused...   \n",
       "\n",
       "                                          source_url       period year_exact  \\\n",
       "0  http://kern.humdrum.org/cgi-bin/ksdata?l=users...  romanticism      False   \n",
       "1  http://kern.humdrum.org/cgi-bin/ksdata?l=users...  romanticism       True   \n",
       "2  http://kern.humdrum.org/cgi-bin/ksdata?l=mused...      baroque       True   \n",
       "3  http://kern.humdrum.org/cgi-bin/ksdata?l=users...   classicism       True   \n",
       "4  http://kern.humdrum.org/cgi-bin/ksdata?l=mused...      baroque       True   \n",
       "\n",
       "  musical_form                                      filename  \n",
       "0      mazurka  859c17427b612d62aac51ab14ad809c7ff62d722.xml  \n",
       "1      mazurka  c05aff259adc395acca7cb42cff8b941f63dfb0a.xml  \n",
       "2        fugue  cd1f471606732412448ecafc853a2b68da0c95f8.xml  \n",
       "3       sonata  fa8b6eb1aa5e7a31156d2e9fcf47218dc699e0eb.xml  \n",
       "4        fugue  5e5c35310383699098841f2a7760a6f6e0a09a36.xml  "
      ]
     },
     "execution_count": 354,
     "metadata": {},
     "output_type": "execute_result"
    }
   ],
   "source": [
    "metadata.head()"
   ]
  },
  {
   "cell_type": "code",
   "execution_count": null,
   "metadata": {
    "collapsed": true
   },
   "outputs": [],
   "source": []
  },
  {
   "cell_type": "code",
   "execution_count": null,
   "metadata": {
    "collapsed": true
   },
   "outputs": [],
   "source": []
  }
 ],
 "metadata": {
  "kernelspec": {
   "display_name": "Python 3",
   "language": "python",
   "name": "python3"
  },
  "language_info": {
   "codemirror_mode": {
    "name": "ipython",
    "version": 3
   },
   "file_extension": ".py",
   "mimetype": "text/x-python",
   "name": "python",
   "nbconvert_exporter": "python",
   "pygments_lexer": "ipython3",
   "version": "3.5.1"
  }
 },
 "nbformat": 4,
 "nbformat_minor": 0
}
