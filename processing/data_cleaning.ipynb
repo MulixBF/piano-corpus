{
 "cells": [
  {
   "cell_type": "code",
   "execution_count": 45,
   "metadata": {
    "collapsed": true
   },
   "outputs": [],
   "source": [
    "import pandas as pd\n",
    "import numpy as np\n",
    "import json"
   ]
  },
  {
   "cell_type": "code",
   "execution_count": 66,
   "metadata": {
    "collapsed": false
   },
   "outputs": [
    {
     "data": {
      "text/html": [
       "<div>\n",
       "<table border=\"1\" class=\"dataframe\">\n",
       "  <thead>\n",
       "    <tr style=\"text-align: right;\">\n",
       "      <th></th>\n",
       "      <th>composer</th>\n",
       "      <th>details_url</th>\n",
       "      <th>duration</th>\n",
       "      <th>filename_xml</th>\n",
       "      <th>genre</th>\n",
       "      <th>hasError</th>\n",
       "      <th>key</th>\n",
       "      <th>name</th>\n",
       "      <th>primary_time_signature</th>\n",
       "      <th>secondary_time_signatures</th>\n",
       "      <th>source_url</th>\n",
       "      <th>tempo</th>\n",
       "      <th>year</th>\n",
       "      <th>filename</th>\n",
       "      <th>filename_mid</th>\n",
       "      <th>filename_abc</th>\n",
       "    </tr>\n",
       "  </thead>\n",
       "  <tbody>\n",
       "    <tr>\n",
       "      <th>0</th>\n",
       "      <td>A. Adam</td>\n",
       "      <td>piece-info.cgi?id=897</td>\n",
       "      <td>72.000000</td>\n",
       "      <td>../data/output/xml/6e355a07d5531f372a2f7fb9ac0...</td>\n",
       "      <td>Classical</td>\n",
       "      <td>False</td>\n",
       "      <td>G major</td>\n",
       "      <td>Giselle - Pas de deux (1er Acte)</td>\n",
       "      <td>4/4</td>\n",
       "      <td>[]</td>\n",
       "      <td>NaN</td>\n",
       "      <td>80</td>\n",
       "      <td></td>\n",
       "      <td>6e355a07d5531f372a2f7fb9ac084a120c34440a.mid</td>\n",
       "      <td>../data/output/mid/6e355a07d5531f372a2f7fb9ac0...</td>\n",
       "      <td>../data/output/abc/6e355a07d5531f372a2f7fb9ac0...</td>\n",
       "    </tr>\n",
       "    <tr>\n",
       "      <th>1</th>\n",
       "      <td>I. M. F. Albéniz</td>\n",
       "      <td>piece-info.cgi?id=898</td>\n",
       "      <td>262.000000</td>\n",
       "      <td>../data/output/xml/cf0e37cd297b4b030a506f1e1e2...</td>\n",
       "      <td>Romantic</td>\n",
       "      <td>False</td>\n",
       "      <td>d minor</td>\n",
       "      <td>Rumores de la Caleta</td>\n",
       "      <td>4/4</td>\n",
       "      <td>[]</td>\n",
       "      <td>NaN</td>\n",
       "      <td>60</td>\n",
       "      <td>1887</td>\n",
       "      <td>cf0e37cd297b4b030a506f1e1e2c637352dcc12d.mid</td>\n",
       "      <td>../data/output/mid/cf0e37cd297b4b030a506f1e1e2...</td>\n",
       "      <td>../data/output/abc/cf0e37cd297b4b030a506f1e1e2...</td>\n",
       "    </tr>\n",
       "    <tr>\n",
       "      <th>2</th>\n",
       "      <td>J. André</td>\n",
       "      <td>piece-info.cgi?id=207</td>\n",
       "      <td>95.769231</td>\n",
       "      <td>../data/output/xml/9235e4d8f77349089d45f475fb8...</td>\n",
       "      <td>Classical</td>\n",
       "      <td>False</td>\n",
       "      <td>C major</td>\n",
       "      <td>Sonatine</td>\n",
       "      <td>4/4</td>\n",
       "      <td>[]</td>\n",
       "      <td>NaN</td>\n",
       "      <td>104</td>\n",
       "      <td>18th Century</td>\n",
       "      <td>9235e4d8f77349089d45f475fb852ab71c954de8.mid</td>\n",
       "      <td>../data/output/mid/9235e4d8f77349089d45f475fb8...</td>\n",
       "      <td>../data/output/abc/9235e4d8f77349089d45f475fb8...</td>\n",
       "    </tr>\n",
       "    <tr>\n",
       "      <th>3</th>\n",
       "      <td>Anonymous</td>\n",
       "      <td>piece-info.cgi?id=679</td>\n",
       "      <td>33.626374</td>\n",
       "      <td>../data/output/xml/6ece453ca4108e48ea6e6d0fec6...</td>\n",
       "      <td>Popular / Dance</td>\n",
       "      <td>False</td>\n",
       "      <td>D major</td>\n",
       "      <td>La Native</td>\n",
       "      <td>4/4</td>\n",
       "      <td>[]</td>\n",
       "      <td>NaN</td>\n",
       "      <td>91</td>\n",
       "      <td>c1860</td>\n",
       "      <td>6ece453ca4108e48ea6e6d0fec6996441adc09b5.mid</td>\n",
       "      <td>../data/output/mid/6ece453ca4108e48ea6e6d0fec6...</td>\n",
       "      <td>../data/output/abc/6ece453ca4108e48ea6e6d0fec6...</td>\n",
       "    </tr>\n",
       "    <tr>\n",
       "      <th>4</th>\n",
       "      <td>Anonymous</td>\n",
       "      <td>piece-info.cgi?id=680</td>\n",
       "      <td>41.860465</td>\n",
       "      <td>../data/output/xml/96b2c5072caf99d739a42bad844...</td>\n",
       "      <td>Popular / Dance</td>\n",
       "      <td>False</td>\n",
       "      <td>G major</td>\n",
       "      <td>Les Graces</td>\n",
       "      <td>4/4</td>\n",
       "      <td>[]</td>\n",
       "      <td>NaN</td>\n",
       "      <td>86</td>\n",
       "      <td>c1860</td>\n",
       "      <td>96b2c5072caf99d739a42bad844e11b6003445aa.mid</td>\n",
       "      <td>../data/output/mid/96b2c5072caf99d739a42bad844...</td>\n",
       "      <td>../data/output/abc/96b2c5072caf99d739a42bad844...</td>\n",
       "    </tr>\n",
       "  </tbody>\n",
       "</table>\n",
       "</div>"
      ],
      "text/plain": [
       "           composer            details_url    duration  \\\n",
       "0           A. Adam  piece-info.cgi?id=897   72.000000   \n",
       "1  I. M. F. Albéniz  piece-info.cgi?id=898  262.000000   \n",
       "2          J. André  piece-info.cgi?id=207   95.769231   \n",
       "3         Anonymous  piece-info.cgi?id=679   33.626374   \n",
       "4         Anonymous  piece-info.cgi?id=680   41.860465   \n",
       "\n",
       "                                        filename_xml            genre  \\\n",
       "0  ../data/output/xml/6e355a07d5531f372a2f7fb9ac0...        Classical   \n",
       "1  ../data/output/xml/cf0e37cd297b4b030a506f1e1e2...         Romantic   \n",
       "2  ../data/output/xml/9235e4d8f77349089d45f475fb8...        Classical   \n",
       "3  ../data/output/xml/6ece453ca4108e48ea6e6d0fec6...  Popular / Dance   \n",
       "4  ../data/output/xml/96b2c5072caf99d739a42bad844...  Popular / Dance   \n",
       "\n",
       "  hasError      key                              name primary_time_signature  \\\n",
       "0    False  G major  Giselle - Pas de deux (1er Acte)                    4/4   \n",
       "1    False  d minor              Rumores de la Caleta                    4/4   \n",
       "2    False  C major                          Sonatine                    4/4   \n",
       "3    False  D major                         La Native                    4/4   \n",
       "4    False  G major                        Les Graces                    4/4   \n",
       "\n",
       "  secondary_time_signatures  source_url  tempo          year  \\\n",
       "0                        []         NaN     80                 \n",
       "1                        []         NaN     60          1887   \n",
       "2                        []         NaN    104  18th Century   \n",
       "3                        []         NaN     91         c1860   \n",
       "4                        []         NaN     86         c1860   \n",
       "\n",
       "                                       filename  \\\n",
       "0  6e355a07d5531f372a2f7fb9ac084a120c34440a.mid   \n",
       "1  cf0e37cd297b4b030a506f1e1e2c637352dcc12d.mid   \n",
       "2  9235e4d8f77349089d45f475fb852ab71c954de8.mid   \n",
       "3  6ece453ca4108e48ea6e6d0fec6996441adc09b5.mid   \n",
       "4  96b2c5072caf99d739a42bad844e11b6003445aa.mid   \n",
       "\n",
       "                                        filename_mid  \\\n",
       "0  ../data/output/mid/6e355a07d5531f372a2f7fb9ac0...   \n",
       "1  ../data/output/mid/cf0e37cd297b4b030a506f1e1e2...   \n",
       "2  ../data/output/mid/9235e4d8f77349089d45f475fb8...   \n",
       "3  ../data/output/mid/6ece453ca4108e48ea6e6d0fec6...   \n",
       "4  ../data/output/mid/96b2c5072caf99d739a42bad844...   \n",
       "\n",
       "                                        filename_abc  \n",
       "0  ../data/output/abc/6e355a07d5531f372a2f7fb9ac0...  \n",
       "1  ../data/output/abc/cf0e37cd297b4b030a506f1e1e2...  \n",
       "2  ../data/output/abc/9235e4d8f77349089d45f475fb8...  \n",
       "3  ../data/output/abc/6ece453ca4108e48ea6e6d0fec6...  \n",
       "4  ../data/output/abc/96b2c5072caf99d739a42bad844...  "
      ]
     },
     "execution_count": 66,
     "metadata": {},
     "output_type": "execute_result"
    }
   ],
   "source": [
    "metadata = pd.read_csv('../data/output/raw_metadata.csv')\n",
    "metadata.head()"
   ]
  },
  {
   "cell_type": "code",
   "execution_count": 6,
   "metadata": {
    "collapsed": false
   },
   "outputs": [
    {
     "data": {
      "text/plain": [
       "2187"
      ]
     },
     "execution_count": 6,
     "metadata": {},
     "output_type": "execute_result"
    }
   ],
   "source": [
    "len(metadata.index)"
   ]
  },
  {
   "cell_type": "code",
   "execution_count": 7,
   "metadata": {
    "collapsed": false
   },
   "outputs": [
    {
     "name": "stderr",
     "output_type": "stream",
     "text": [
      "/usr/lib/python3.5/site-packages/ipykernel/__main__.py:2: SettingWithCopyWarning: \n",
      "A value is trying to be set on a copy of a slice from a DataFrame\n",
      "\n",
      "See the caveats in the documentation: http://pandas.pydata.org/pandas-docs/stable/indexing.html#indexing-view-versus-copy\n",
      "  from ipykernel import kernelapp as app\n"
     ]
    }
   ],
   "source": [
    "# Carl Philipp Emanuel Bach\n",
    "metadata.composer[metadata['composer'] == 'C. P. E. Bach'] = 'cpe_bach'"
   ]
  },
  {
   "cell_type": "code",
   "execution_count": 27,
   "metadata": {
    "collapsed": true
   },
   "outputs": [],
   "source": [
    "import re\n",
    "from unidecode import unidecode\n",
    "\n",
    "def remove_initials(string):\n",
    "    return re.sub('\\s*\\w\\.\\s*', '', string)\n",
    "\n",
    "def normalize_composer_name(composer_name):\n",
    "    try:\n",
    "        composer_name = remove_initials(composer_name)\n",
    "        composer_name = unidecode(composer_name)\n",
    "        composer_name = composer_name.lower()\n",
    "        return composer_name.split(',')[0]\n",
    "    except:\n",
    "        print('Bad composer name: ' + str(composer_name))\n",
    "        return 'Unknown'"
   ]
  },
  {
   "cell_type": "code",
   "execution_count": 28,
   "metadata": {
    "collapsed": false
   },
   "outputs": [],
   "source": [
    "metadata.ix[562, \"Composer\"] = \"Chopin\""
   ]
  },
  {
   "cell_type": "code",
   "execution_count": 29,
   "metadata": {
    "collapsed": false
   },
   "outputs": [
    {
     "name": "stdout",
     "output_type": "stream",
     "text": [
      "Bad composer name: None\n"
     ]
    }
   ],
   "source": [
    "metadata['composer'] = metadata['composer'].map(normalize_composer_name)"
   ]
  },
  {
   "cell_type": "code",
   "execution_count": 30,
   "metadata": {
    "collapsed": false
   },
   "outputs": [],
   "source": [
    "composers = metadata['composer'].unique()"
   ]
  },
  {
   "cell_type": "code",
   "execution_count": 31,
   "metadata": {
    "collapsed": false
   },
   "outputs": [
    {
     "name": "stderr",
     "output_type": "stream",
     "text": [
      "/usr/lib/python3.5/site-packages/ipykernel/__main__.py:2: UserWarning: This pattern has match groups. To actually get the groups, use str.extract.\n",
      "  from ipykernel import kernelapp as app\n"
     ]
    },
    {
     "data": {
      "text/plain": [
       "395                              Fugue sur le nom de Bach\n",
       "562           N6e. Chopin, Mazurka, op. 41 no. 2, mm. 1-8\n",
       "961                      Suite española\\n(1886)\\n Sevilla\n",
       "965     53 Studies on Études on Frédéric Chopin\\n(1914...\n",
       "973     M. P. Heller: Joy of Christmas\\n(Christmas Fan...\n",
       "977     Robert Leonard: Christmas Fantasia, Opus 99 Ch...\n",
       "981     Lyric Pieces Book III, Opus 43\\n(1886)\\n No. 2...\n",
       "1001        Danzas españolas\\n(1900)\\n No. 4 - Villanesca\n",
       "1026    The Seasons, Opus 37a\\n(1876)\\n December - Chr...\n",
       "1165                        Grieg Lyrische Stcke Op-43 Nr\n",
       "1256                                 Tango-(Arr Godowsky)\n",
       "1357                                                 s901\n",
       "1530                           SAENS-BEETHOVEN-Variations\n",
       "1666                   Liebeslied-(transcribed by LISZT-)\n",
       "1801                  HAYDN-Variations-(4 tracks GM file)\n",
       "1809                 Scherzo-from Symph No-9 (Arr LISZT-)\n",
       "1839                                                 s902\n",
       "1884               Menuet-on the Name of Haydn (Sonatina)\n",
       "2059                  Franz Liszt Etudes Feux Follets (Ir\n",
       "2140                            Danza Espanola Villanesca\n",
       "Name: name, dtype: object"
      ]
     },
     "execution_count": 31,
     "metadata": {},
     "output_type": "execute_result"
    }
   ],
   "source": [
    "composer_name_regex = '|'.join(composers)\n",
    "metadata['name'][metadata['name'].str.contains(composer_name_regex, case=False)]"
   ]
  },
  {
   "cell_type": "code",
   "execution_count": 51,
   "metadata": {
    "collapsed": false
   },
   "outputs": [
    {
     "data": {
      "text/plain": [
       "array(['adam', 'albeniz', 'andre', 'anonymous', 'cpe_bach', 'bach',\n",
       "       'beethoven', 'benda', 'bizet', 'blumenthal', 'brahms', 'brown',\n",
       "       'burgmuller', 'chopin', 'czerny', 'comeau', 'debussy', 'diabelli',\n",
       "       'doonan', 'fischer', 'streabbog (gobbaerts)', 'grieg', 'handel',\n",
       "       'haydn', 'iliev', 'hunter', 'joplin', 'kruetzer', 'kumar', 'kuhlau',\n",
       "       'liszt', 'magnenat', 'mendelssohn-bartholdy', 'minkus', 'mozart',\n",
       "       'pease', 'pachelbel', 'muller', 'pejacsevich', 'pleyel',\n",
       "       'mussorgsky', 'rachmaninoff', 'rameau', 'rimsky-korsakov', 'satie',\n",
       "       'scarlatti', 'schubert', 'schumann', 'scriabin', 'sidwell', 'sousa',\n",
       "       'spagnoletti', 'stanchinsky', 'strauss j', 'tchaikovsky',\n",
       "       'traditional', 'turpin', 'verdi', 'wanhal', 'yaniewicz', 'Unknown',\n",
       "       'clementi', 'borodin', 'burgmueller', 'balakirew', 'godowsky',\n",
       "       'christmas', 'granados', 'sinding', 'ravel', 'rachmaninov',\n",
       "       'moszkowski', 'mendelssohn', 'skriabin', 'mozartart', 'faure',\n",
       "       'alkan', 'shostakovich', 'moszkowsky', 'racp23', 'bartok', 'elgar',\n",
       "       'buegmueller', 'prokofiev', 'tchaikowsky', 'rachp3', 'balakirev',\n",
       "       'schub', 'bri118', 'clar', 'bth', 'sibelius', 'dvorak', 'saint',\n",
       "       'me85', 'beba33', 'grainger', 'bri117', 'brw39', 'macdowell', 's90',\n",
       "       'brra79', 'me62', 'me19', 'wagner', 'boccherini', 'villa', 'me38'], dtype=object)"
      ]
     },
     "execution_count": 51,
     "metadata": {},
     "output_type": "execute_result"
    }
   ],
   "source": [
    "metadata['composer'].unique()\n",
    "metadata['composer']."
   ]
  },
  {
   "cell_type": "code",
   "execution_count": 32,
   "metadata": {
    "collapsed": false
   },
   "outputs": [],
   "source": [
    "def extract_year_from_title(title_string):\n",
    "    match = re.search('\\((\\d{4})\\)', title_string)\n",
    "    if match:\n",
    "        return int(match.group(1))\n",
    "    \n",
    "    return None"
   ]
  },
  {
   "cell_type": "code",
   "execution_count": 33,
   "metadata": {
    "collapsed": false
   },
   "outputs": [
    {
     "data": {
      "text/plain": [
       "1797"
      ]
     },
     "execution_count": 33,
     "metadata": {},
     "output_type": "execute_result"
    }
   ],
   "source": [
    "extract_year_from_title('Sonatina Opus 36 No. 1, Opus 36\\n(1797)\\n')"
   ]
  },
  {
   "cell_type": "code",
   "execution_count": 190,
   "metadata": {
    "collapsed": false
   },
   "outputs": [],
   "source": [
    "#metadata['year'] = pd.read_csv('all_metadata.csv')['year']"
   ]
  },
  {
   "cell_type": "code",
   "execution_count": 34,
   "metadata": {
    "collapsed": false
   },
   "outputs": [],
   "source": [
    "years_from_title = metadata['name'].map(extract_year_from_title)\n",
    "\n",
    "for index, row in metadata[years_from_title.notnull() & metadata['year'].notnull()].iterrows():\n",
    "    raise Exception('Warning! Year present both in name ({0}) and in metadata ({1})'.format(row['name'], row['year']))\n",
    "\n",
    "metadata['year'] = metadata['year'].fillna(years_from_title)"
   ]
  },
  {
   "cell_type": "code",
   "execution_count": 35,
   "metadata": {
    "collapsed": false
   },
   "outputs": [],
   "source": [
    "def extract_year(year_obj):\n",
    "    \n",
    "    if not year_obj or str(year_obj) == 'nan':\n",
    "        return None, False\n",
    "    \n",
    "    try:\n",
    "        int_year = int(year_obj)\n",
    "        return int_year, True\n",
    "    except Exception:\n",
    "        pass\n",
    "    \n",
    "    try:\n",
    "        int_year = math.floor(year_obj)\n",
    "        return int_year, True\n",
    "    except Exception:\n",
    "        pass\n",
    "    \n",
    "    match = re.search('(~|c|around|c.)?\\s*(\\d{4})\\??', year_obj) # year with ~ or ?\n",
    "    if match:\n",
    "        return int(match.groups()[1]), False\n",
    "    \n",
    "    match = re.search('(\\d{4})-\\d{1,4}', year_obj) # year period. Return lower bound\n",
    "    if match:\n",
    "        return int(match.groups()[0]), False\n",
    "    \n",
    "    match = re.search('.+-(\\d{4})', year_obj) # year period. Return lower bound\n",
    "    if match:\n",
    "        return int(match.groups()[0]), False\n",
    "    \n",
    "    \n",
    "    match = re.search('(\\d{4})/\\w{2,4}', year_obj) # exact date\n",
    "    if match:\n",
    "        return int(match.groups()[0]), True\n",
    "    \n",
    "    match = re.search('\\w{3,4}\\.*(\\d{4})', year_obj) # month and year\n",
    "    if match:\n",
    "        return int(match.groups()[0]), True\n",
    "    \n",
    "    match = re.search('(\\d{2})th', year_obj) # century\n",
    "    if match:\n",
    "        return int(match.groups()[0]) * 100 - 50, False\n",
    "    \n",
    "    return None, False"
   ]
  },
  {
   "cell_type": "code",
   "execution_count": 36,
   "metadata": {
    "collapsed": false
   },
   "outputs": [],
   "source": [
    "extracted_years = metadata['year'].map(extract_year)\n",
    "\n",
    "# todo: there should be a better way...\n",
    "metadata['year'] = pd.to_numeric(extracted_years.map(lambda x: x[0]))\n",
    "metadata['year_exact'] = extracted_years.map(lambda x: x[1])"
   ]
  },
  {
   "cell_type": "code",
   "execution_count": 38,
   "metadata": {
    "collapsed": false
   },
   "outputs": [
    {
     "name": "stderr",
     "output_type": "stream",
     "text": [
      "/usr/lib/python3.5/site-packages/ipykernel/__main__.py:15: SettingWithCopyWarning: \n",
      "A value is trying to be set on a copy of a slice from a DataFrame.\n",
      "Try using .loc[row_indexer,col_indexer] = value instead\n",
      "\n",
      "See the caveats in the documentation: http://pandas.pydata.org/pandas-docs/stable/indexing.html#indexing-view-versus-copy\n",
      "/usr/lib/python3.5/site-packages/ipykernel/__main__.py:16: SettingWithCopyWarning: \n",
      "A value is trying to be set on a copy of a slice from a DataFrame.\n",
      "Try using .loc[row_indexer,col_indexer] = value instead\n",
      "\n",
      "See the caveats in the documentation: http://pandas.pydata.org/pandas-docs/stable/indexing.html#indexing-view-versus-copy\n"
     ]
    }
   ],
   "source": [
    "from collections import namedtuple\n",
    "\n",
    "Period = namedtuple('Period', ['start', 'end'])\n",
    "\n",
    "music_periods = { # this is not exactly exact. MUST DOUBLE CHECK AFTER\n",
    "    'baroque': Period(1600, 1750), \n",
    "    'classicism': Period(1750, 1820), \n",
    "    'romanticism': Period(1820, 1890), \n",
    "    'modern': Period(1890, 1950),\n",
    "    'folk': Period(1000, 1600),\n",
    "    'jazz': Period(0, 0) # sorry jazz. i love you it is just not your day\n",
    "}\n",
    "\n",
    "metadata['period'] = metadata['genre'].map(lambda x: str(x).lower() if x else None)\n",
    "metadata[~metadata['period'].isin(music_periods.keys())]['period'] = None\n",
    "metadata[metadata['period'] == 'romantic']['genre'] = 'romanticism'"
   ]
  },
  {
   "cell_type": "code",
   "execution_count": 39,
   "metadata": {
    "collapsed": false
   },
   "outputs": [],
   "source": [
    "def get_form_from_title(title_string):\n",
    "    if not title_string:\n",
    "        return None\n",
    "    \n",
    "    title_string = unidecode(title_string)\n",
    "    for form in musical_forms:\n",
    "        if re.search(form, title_string, re.IGNORECASE):\n",
    "            return form\n",
    "    \n",
    "    return None"
   ]
  },
  {
   "cell_type": "code",
   "execution_count": 40,
   "metadata": {
    "collapsed": false
   },
   "outputs": [],
   "source": [
    "musical_forms = [\n",
    "    'rag',\n",
    "    'sonata',\n",
    "    'sonatina',\n",
    "    'rhapsod',\n",
    "    'suite',\n",
    "    'canon',\n",
    "    'nocturne',\n",
    "    'valse',\n",
    "    'ballad',\n",
    "    'polonaise',\n",
    "    'fantasia',\n",
    "    'song', \n",
    "    'march', \n",
    "    'technique', \n",
    "    'etude', \n",
    "    'mazurka', \n",
    "    'fugue', \n",
    "    'rondo',\n",
    "    'prelude']\n",
    "\n",
    "metadata['musical_form'] = metadata['genre'].map(lambda x: get_form_from_title(str(x)))"
   ]
  },
  {
   "cell_type": "code",
   "execution_count": 41,
   "metadata": {
    "collapsed": false
   },
   "outputs": [],
   "source": [
    "metadata['musical_form'] = metadata['musical_form'].fillna(metadata['name'].map(get_form_from_title))"
   ]
  },
  {
   "cell_type": "code",
   "execution_count": 42,
   "metadata": {
    "collapsed": true
   },
   "outputs": [],
   "source": [
    "def get_period_by_year(year):\n",
    "    if not year or year is None or str(year) == 'nan':\n",
    "        return None\n",
    "    \n",
    "    for period_name, period_dates in music_periods.items():\n",
    "        if period_dates.start <= year <= period_dates.end:\n",
    "            return period_name\n",
    "        \n",
    "    return None"
   ]
  },
  {
   "cell_type": "code",
   "execution_count": 43,
   "metadata": {
    "collapsed": true
   },
   "outputs": [],
   "source": [
    "metadata['period'] = metadata['period'].fillna(metadata['year'].map(get_period_by_year))"
   ]
  },
  {
   "cell_type": "code",
   "execution_count": 46,
   "metadata": {
    "collapsed": false
   },
   "outputs": [],
   "source": [
    "composers = json.load(open('composers.json', 'r'))"
   ]
  },
  {
   "cell_type": "code",
   "execution_count": 58,
   "metadata": {
    "collapsed": false
   },
   "outputs": [
    {
     "name": "stderr",
     "output_type": "stream",
     "text": [
      "/usr/lib/python3.5/site-packages/ipykernel/__main__.py:1: SettingWithCopyWarning: \n",
      "A value is trying to be set on a copy of a slice from a DataFrame.\n",
      "Try using .loc[row_indexer,col_indexer] = value instead\n",
      "\n",
      "See the caveats in the documentation: http://pandas.pydata.org/pandas-docs/stable/indexing.html#indexing-view-versus-copy\n",
      "  if __name__ == '__main__':\n"
     ]
    }
   ],
   "source": [
    "metadata[metadata['period'] == 'nan']['period'] = None"
   ]
  },
  {
   "cell_type": "code",
   "execution_count": 59,
   "metadata": {
    "collapsed": false
   },
   "outputs": [],
   "source": [
    "composer_periods = metadata['composer'].map(lambda x: composers[x] if x in composers else None)\n",
    "metadata['period'] = metadata['period'].fillna(composer_periods)"
   ]
  },
  {
   "cell_type": "code",
   "execution_count": 60,
   "metadata": {
    "collapsed": false
   },
   "outputs": [
    {
     "data": {
      "text/plain": [
       "period\n",
       "baroque             236\n",
       "classical           132\n",
       "classicism           81\n",
       "folk                 58\n",
       "jazz                 25\n",
       "march                 3\n",
       "modern               14\n",
       "nan                1230\n",
       "popular / dance       6\n",
       "romantic            164\n",
       "romanticism         216\n",
       "song                  3\n",
       "technique            19\n",
       "Name: period, dtype: int64"
      ]
     },
     "execution_count": 60,
     "metadata": {},
     "output_type": "execute_result"
    }
   ],
   "source": [
    "metadata.groupby(by='period')['period'].count()"
   ]
  },
  {
   "cell_type": "code",
   "execution_count": 352,
   "metadata": {
    "collapsed": false
   },
   "outputs": [],
   "source": [
    "del metadata['processed_file_path']\n",
    "del metadata['raw_file_path']"
   ]
  },
  {
   "cell_type": "code",
   "execution_count": 6,
   "metadata": {
    "collapsed": false
   },
   "outputs": [
    {
     "ename": "KeyError",
     "evalue": "'processed_file_path'",
     "output_type": "error",
     "traceback": [
      "\u001b[0;31m---------------------------------------------------------------------------\u001b[0m",
      "\u001b[0;31mKeyError\u001b[0m                                  Traceback (most recent call last)",
      "\u001b[0;32m<ipython-input-6-b6d240b40f8d>\u001b[0m in \u001b[0;36m<module>\u001b[0;34m()\u001b[0m\n\u001b[1;32m      1\u001b[0m \u001b[0;32mimport\u001b[0m \u001b[0mos\u001b[0m\u001b[0;34m.\u001b[0m\u001b[0mpath\u001b[0m\u001b[0;34m\u001b[0m\u001b[0m\n\u001b[0;32m----> 2\u001b[0;31m \u001b[0mmetadata\u001b[0m\u001b[0;34m[\u001b[0m\u001b[0;34m'filename'\u001b[0m\u001b[0;34m]\u001b[0m \u001b[0;34m=\u001b[0m \u001b[0mmetadata\u001b[0m\u001b[0;34m[\u001b[0m\u001b[0;34m'processed_file_path'\u001b[0m\u001b[0;34m]\u001b[0m\u001b[0;34m.\u001b[0m\u001b[0mmap\u001b[0m\u001b[0;34m(\u001b[0m\u001b[0;32mlambda\u001b[0m \u001b[0mx\u001b[0m\u001b[0;34m:\u001b[0m \u001b[0mos\u001b[0m\u001b[0;34m.\u001b[0m\u001b[0mpath\u001b[0m\u001b[0;34m.\u001b[0m\u001b[0mbasename\u001b[0m\u001b[0;34m(\u001b[0m\u001b[0mstr\u001b[0m\u001b[0;34m(\u001b[0m\u001b[0mx\u001b[0m\u001b[0;34m)\u001b[0m\u001b[0;34m)\u001b[0m\u001b[0;34m)\u001b[0m\u001b[0;34m\u001b[0m\u001b[0m\n\u001b[0m",
      "\u001b[0;32m/usr/lib/python3.5/site-packages/pandas/core/frame.py\u001b[0m in \u001b[0;36m__getitem__\u001b[0;34m(self, key)\u001b[0m\n\u001b[1;32m   1912\u001b[0m             \u001b[0;32mreturn\u001b[0m \u001b[0mself\u001b[0m\u001b[0;34m.\u001b[0m\u001b[0m_getitem_multilevel\u001b[0m\u001b[0;34m(\u001b[0m\u001b[0mkey\u001b[0m\u001b[0;34m)\u001b[0m\u001b[0;34m\u001b[0m\u001b[0m\n\u001b[1;32m   1913\u001b[0m         \u001b[0;32melse\u001b[0m\u001b[0;34m:\u001b[0m\u001b[0;34m\u001b[0m\u001b[0m\n\u001b[0;32m-> 1914\u001b[0;31m             \u001b[0;32mreturn\u001b[0m \u001b[0mself\u001b[0m\u001b[0;34m.\u001b[0m\u001b[0m_getitem_column\u001b[0m\u001b[0;34m(\u001b[0m\u001b[0mkey\u001b[0m\u001b[0;34m)\u001b[0m\u001b[0;34m\u001b[0m\u001b[0m\n\u001b[0m\u001b[1;32m   1915\u001b[0m \u001b[0;34m\u001b[0m\u001b[0m\n\u001b[1;32m   1916\u001b[0m     \u001b[0;32mdef\u001b[0m \u001b[0m_getitem_column\u001b[0m\u001b[0;34m(\u001b[0m\u001b[0mself\u001b[0m\u001b[0;34m,\u001b[0m \u001b[0mkey\u001b[0m\u001b[0;34m)\u001b[0m\u001b[0;34m:\u001b[0m\u001b[0;34m\u001b[0m\u001b[0m\n",
      "\u001b[0;32m/usr/lib/python3.5/site-packages/pandas/core/frame.py\u001b[0m in \u001b[0;36m_getitem_column\u001b[0;34m(self, key)\u001b[0m\n\u001b[1;32m   1919\u001b[0m         \u001b[0;31m# get column\u001b[0m\u001b[0;34m\u001b[0m\u001b[0;34m\u001b[0m\u001b[0m\n\u001b[1;32m   1920\u001b[0m         \u001b[0;32mif\u001b[0m \u001b[0mself\u001b[0m\u001b[0;34m.\u001b[0m\u001b[0mcolumns\u001b[0m\u001b[0;34m.\u001b[0m\u001b[0mis_unique\u001b[0m\u001b[0;34m:\u001b[0m\u001b[0;34m\u001b[0m\u001b[0m\n\u001b[0;32m-> 1921\u001b[0;31m             \u001b[0;32mreturn\u001b[0m \u001b[0mself\u001b[0m\u001b[0;34m.\u001b[0m\u001b[0m_get_item_cache\u001b[0m\u001b[0;34m(\u001b[0m\u001b[0mkey\u001b[0m\u001b[0;34m)\u001b[0m\u001b[0;34m\u001b[0m\u001b[0m\n\u001b[0m\u001b[1;32m   1922\u001b[0m \u001b[0;34m\u001b[0m\u001b[0m\n\u001b[1;32m   1923\u001b[0m         \u001b[0;31m# duplicate columns & possible reduce dimensionaility\u001b[0m\u001b[0;34m\u001b[0m\u001b[0;34m\u001b[0m\u001b[0m\n",
      "\u001b[0;32m/usr/lib/python3.5/site-packages/pandas/core/generic.py\u001b[0m in \u001b[0;36m_get_item_cache\u001b[0;34m(self, item)\u001b[0m\n\u001b[1;32m   1088\u001b[0m         \u001b[0mres\u001b[0m \u001b[0;34m=\u001b[0m \u001b[0mcache\u001b[0m\u001b[0;34m.\u001b[0m\u001b[0mget\u001b[0m\u001b[0;34m(\u001b[0m\u001b[0mitem\u001b[0m\u001b[0;34m)\u001b[0m\u001b[0;34m\u001b[0m\u001b[0m\n\u001b[1;32m   1089\u001b[0m         \u001b[0;32mif\u001b[0m \u001b[0mres\u001b[0m \u001b[0;32mis\u001b[0m \u001b[0;32mNone\u001b[0m\u001b[0;34m:\u001b[0m\u001b[0;34m\u001b[0m\u001b[0m\n\u001b[0;32m-> 1090\u001b[0;31m             \u001b[0mvalues\u001b[0m \u001b[0;34m=\u001b[0m \u001b[0mself\u001b[0m\u001b[0;34m.\u001b[0m\u001b[0m_data\u001b[0m\u001b[0;34m.\u001b[0m\u001b[0mget\u001b[0m\u001b[0;34m(\u001b[0m\u001b[0mitem\u001b[0m\u001b[0;34m)\u001b[0m\u001b[0;34m\u001b[0m\u001b[0m\n\u001b[0m\u001b[1;32m   1091\u001b[0m             \u001b[0mres\u001b[0m \u001b[0;34m=\u001b[0m \u001b[0mself\u001b[0m\u001b[0;34m.\u001b[0m\u001b[0m_box_item_values\u001b[0m\u001b[0;34m(\u001b[0m\u001b[0mitem\u001b[0m\u001b[0;34m,\u001b[0m \u001b[0mvalues\u001b[0m\u001b[0;34m)\u001b[0m\u001b[0;34m\u001b[0m\u001b[0m\n\u001b[1;32m   1092\u001b[0m             \u001b[0mcache\u001b[0m\u001b[0;34m[\u001b[0m\u001b[0mitem\u001b[0m\u001b[0;34m]\u001b[0m \u001b[0;34m=\u001b[0m \u001b[0mres\u001b[0m\u001b[0;34m\u001b[0m\u001b[0m\n",
      "\u001b[0;32m/usr/lib/python3.5/site-packages/pandas/core/internals.py\u001b[0m in \u001b[0;36mget\u001b[0;34m(self, item, fastpath)\u001b[0m\n\u001b[1;32m   3100\u001b[0m \u001b[0;34m\u001b[0m\u001b[0m\n\u001b[1;32m   3101\u001b[0m             \u001b[0;32mif\u001b[0m \u001b[0;32mnot\u001b[0m \u001b[0misnull\u001b[0m\u001b[0;34m(\u001b[0m\u001b[0mitem\u001b[0m\u001b[0;34m)\u001b[0m\u001b[0;34m:\u001b[0m\u001b[0;34m\u001b[0m\u001b[0m\n\u001b[0;32m-> 3102\u001b[0;31m                 \u001b[0mloc\u001b[0m \u001b[0;34m=\u001b[0m \u001b[0mself\u001b[0m\u001b[0;34m.\u001b[0m\u001b[0mitems\u001b[0m\u001b[0;34m.\u001b[0m\u001b[0mget_loc\u001b[0m\u001b[0;34m(\u001b[0m\u001b[0mitem\u001b[0m\u001b[0;34m)\u001b[0m\u001b[0;34m\u001b[0m\u001b[0m\n\u001b[0m\u001b[1;32m   3103\u001b[0m             \u001b[0;32melse\u001b[0m\u001b[0;34m:\u001b[0m\u001b[0;34m\u001b[0m\u001b[0m\n\u001b[1;32m   3104\u001b[0m                 \u001b[0mindexer\u001b[0m \u001b[0;34m=\u001b[0m \u001b[0mnp\u001b[0m\u001b[0;34m.\u001b[0m\u001b[0marange\u001b[0m\u001b[0;34m(\u001b[0m\u001b[0mlen\u001b[0m\u001b[0;34m(\u001b[0m\u001b[0mself\u001b[0m\u001b[0;34m.\u001b[0m\u001b[0mitems\u001b[0m\u001b[0;34m)\u001b[0m\u001b[0;34m)\u001b[0m\u001b[0;34m[\u001b[0m\u001b[0misnull\u001b[0m\u001b[0;34m(\u001b[0m\u001b[0mself\u001b[0m\u001b[0;34m.\u001b[0m\u001b[0mitems\u001b[0m\u001b[0;34m)\u001b[0m\u001b[0;34m]\u001b[0m\u001b[0;34m\u001b[0m\u001b[0m\n",
      "\u001b[0;32m/usr/lib/python3.5/site-packages/pandas/core/index.py\u001b[0m in \u001b[0;36mget_loc\u001b[0;34m(self, key, method, tolerance)\u001b[0m\n\u001b[1;32m   1690\u001b[0m                 raise ValueError('tolerance argument only valid if using pad, '\n\u001b[1;32m   1691\u001b[0m                                  'backfill or nearest lookups')\n\u001b[0;32m-> 1692\u001b[0;31m             \u001b[0;32mreturn\u001b[0m \u001b[0mself\u001b[0m\u001b[0;34m.\u001b[0m\u001b[0m_engine\u001b[0m\u001b[0;34m.\u001b[0m\u001b[0mget_loc\u001b[0m\u001b[0;34m(\u001b[0m\u001b[0m_values_from_object\u001b[0m\u001b[0;34m(\u001b[0m\u001b[0mkey\u001b[0m\u001b[0;34m)\u001b[0m\u001b[0;34m)\u001b[0m\u001b[0;34m\u001b[0m\u001b[0m\n\u001b[0m\u001b[1;32m   1693\u001b[0m \u001b[0;34m\u001b[0m\u001b[0m\n\u001b[1;32m   1694\u001b[0m         indexer = self.get_indexer([key], method=method,\n",
      "\u001b[0;32mpandas/index.pyx\u001b[0m in \u001b[0;36mpandas.index.IndexEngine.get_loc (pandas/index.c:3979)\u001b[0;34m()\u001b[0m\n",
      "\u001b[0;32mpandas/index.pyx\u001b[0m in \u001b[0;36mpandas.index.IndexEngine.get_loc (pandas/index.c:3843)\u001b[0;34m()\u001b[0m\n",
      "\u001b[0;32mpandas/hashtable.pyx\u001b[0m in \u001b[0;36mpandas.hashtable.PyObjectHashTable.get_item (pandas/hashtable.c:12265)\u001b[0;34m()\u001b[0m\n",
      "\u001b[0;32mpandas/hashtable.pyx\u001b[0m in \u001b[0;36mpandas.hashtable.PyObjectHashTable.get_item (pandas/hashtable.c:12216)\u001b[0;34m()\u001b[0m\n",
      "\u001b[0;31mKeyError\u001b[0m: 'processed_file_path'"
     ]
    }
   ],
   "source": [
    "import os.path\n",
    "metadata['filename'] = metadata['processed_file_path'].map(lambda x: os.path.basename(str(x)))"
   ]
  },
  {
   "cell_type": "code",
   "execution_count": 65,
   "metadata": {
    "collapsed": true
   },
   "outputs": [],
   "source": [
    "metadata.to_csv('../data/output/metadata.csv', index=False)"
   ]
  },
  {
   "cell_type": "code",
   "execution_count": 62,
   "metadata": {
    "collapsed": false
   },
   "outputs": [
    {
     "data": {
      "text/plain": [
       "primary_time_signature\n",
       "4/4    2187\n",
       "Name: primary_time_signature, dtype: int64"
      ]
     },
     "execution_count": 62,
     "metadata": {},
     "output_type": "execute_result"
    }
   ],
   "source": [
    "metadata.groupby(by='primary_time_signature')['primary_time_signature'].count()"
   ]
  },
  {
   "cell_type": "code",
   "execution_count": 64,
   "metadata": {
    "collapsed": false
   },
   "outputs": [
    {
     "data": {
      "text/plain": [
       "secondary_time_signatures\n",
       "[]    2187\n",
       "Name: secondary_time_signatures, dtype: int64"
      ]
     },
     "execution_count": 64,
     "metadata": {},
     "output_type": "execute_result"
    }
   ],
   "source": [
    "metadata.groupby(by='secondary_time_signatures')['secondary_time_signatures'].count()"
   ]
  }
 ],
 "metadata": {
  "kernelspec": {
   "display_name": "Python 3",
   "language": "python",
   "name": "python3"
  },
  "language_info": {
   "codemirror_mode": {
    "name": "ipython",
    "version": 3
   },
   "file_extension": ".py",
   "mimetype": "text/x-python",
   "name": "python",
   "nbconvert_exporter": "python",
   "pygments_lexer": "ipython3",
   "version": "3.5.2"
  }
 },
 "nbformat": 4,
 "nbformat_minor": 0
}
