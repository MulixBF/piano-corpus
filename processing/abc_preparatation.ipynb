{
 "cells": [
  {
   "cell_type": "code",
   "execution_count": null,
   "metadata": {
    "collapsed": true
   },
   "outputs": [],
   "source": [
    "import pandas as pd\n",
    "import music21 as m21\n",
    "import os\n",
    "import re"
   ]
  },
  {
   "cell_type": "code",
   "execution_count": null,
   "metadata": {
    "collapsed": false
   },
   "outputs": [],
   "source": [
    "def get_header_line(lines, prefix):\n",
    "    return [l.replace(prefix, '').strip() for l in lines if l.startswith(prefix)][0]\n",
    "\n",
    "def preprocess_lines(lines):\n",
    "    empty_bar_regex = re.compile('|x\\d|')\n",
    "\n",
    "    lines = [l for l in lines if not l.startswith('%')]\n",
    "    \n",
    "    for line in lines:\n",
    "        while empty_bar_regex.search(line):\n",
    "            line = re.sub(empty_bar_regex, '|', line)\n",
    "            print(line)\n",
    "            \n",
    "    return lines\n",
    "\n",
    "def parse_abc(row):\n",
    "    filename = str(row['filename_abc'])\n",
    "    time_signature = None,\n",
    "    tempo = None,\n",
    "    part_count = None,\n",
    "    parts = None\n",
    "    part_strings = []\n",
    "    part_start_lines = []\n",
    "    \n",
    "    if os.path.isfile(filename):\n",
    "        with open(filename, 'r') as f:\n",
    "            lines = f.readlines()\n",
    "            lines = preprocess_lines(lines)\n",
    "            \n",
    "            time_signature = get_header_line(lines, 'M:')\n",
    "            tempo = get_header_line(lines, 'Q:')\n",
    "            \n",
    "            for index, line in enumerate(lines):\n",
    "                if line.startswith('V:'):\n",
    "                    part_start_lines.append(index)\n",
    "                \n",
    "            for i in range(len(part_start_lines) - 1):\n",
    "                 part_strings =  lines[part_start_lines[i] + 1 : part_start_lines[i+1]]\n",
    "            \n",
    "    return pd.Series({\n",
    "       'time_signature': time_signature,\n",
    "       'tempo': tempo,\n",
    "       'part_count': len(part_start_lines),\n",
    "       'parts': part_strings\n",
    "    })"
   ]
  },
  {
   "cell_type": "code",
   "execution_count": null,
   "metadata": {
    "collapsed": false
   },
   "outputs": [],
   "source": [
    "abc_data = metadata[:1].apply(parse_abc, axis=1)\n",
    "print(abc_data)"
   ]
  },
  {
   "cell_type": "code",
   "execution_count": 129,
   "metadata": {
    "collapsed": false
   },
   "outputs": [
    {
     "data": {
      "text/plain": [
       "0    % uppera\\n% control track\\n% creator: \\n% GNU ...\n",
       "1    % upper\\nx2\\n% control track\\n% creator: \\n% G...\n",
       "2    % up:VcI\\n%%MIDI program 0\\n%%MIDI program 0\\n...\n",
       "3    % upper\\n% Creator: GNU LilyPond 2.6.4.3      ...\n",
       "4    % upper\\n% Creator: GNU LilyPond 2.6.4.3      ...\n",
       "dtype: object"
      ]
     },
     "execution_count": 129,
     "metadata": {},
     "output_type": "execute_result"
    }
   ],
   "source": [
    "abc_data.head()"
   ]
  },
  {
   "cell_type": "code",
   "execution_count": 24,
   "metadata": {
    "collapsed": false
   },
   "outputs": [],
   "source": [
    "BASEDIR = '../data/result/'\n",
    "\n",
    "def prepare(files, output, m=None):\n",
    "    with open(output, 'w') as output_file:\n",
    "        for i, input_filename in files.iteritems():\n",
    "            part_started = False\n",
    "            for line in open(BASEDIR + input_filename, 'r'):\n",
    "                line = line.replace('\\\\', '').strip()\n",
    "                \n",
    "                if line.startswith('%'):\n",
    "                    continue\n",
    "                \n",
    "                if m is not None and line.startswith('M:'):\n",
    "                    file_m = line.replace('M:', '').strip()\n",
    "                    if m != file_m:\n",
    "                        print('M: {0} != {1}'.format(m, file_m))\n",
    "                        break\n",
    "                        \n",
    "                if line.startswith('V:'):\n",
    "                    output_file.write('\\n')\n",
    "                    part_started = True\n",
    "                    continue\n",
    "                        \n",
    "                if part_started:\n",
    "                    output_file.write(line)"
   ]
  },
  {
   "cell_type": "code",
   "execution_count": 25,
   "metadata": {
    "collapsed": false
   },
   "outputs": [],
   "source": [
    "prepare(metadata['filename_abc'].dropna(), '../data/prepared/all.txt', m=None)"
   ]
  },
  {
   "cell_type": "code",
   "execution_count": 6,
   "metadata": {
    "collapsed": false
   },
   "outputs": [
    {
     "data": {
      "text/plain": [
       "0     abc/859c17427b612d62aac51ab14ad809c7ff62d722.abc\n",
       "1     abc/c05aff259adc395acca7cb42cff8b941f63dfb0a.abc\n",
       "13    abc/27c5556cf82b3420c9bd407dcbd8dbcf544f1470.abc\n",
       "22    abc/bd5b0d48c4f11614d12af67eb5d03d964070845e.abc\n",
       "23    abc/9f900dd904c27e2c0864b028071015cb4d967d4f.abc\n",
       "Name: filename_abc, dtype: object"
      ]
     },
     "execution_count": 6,
     "metadata": {},
     "output_type": "execute_result"
    }
   ],
   "source": [
    "romanticism_data = metadata[metadata['period'] == 'romanticism']['filename_abc'].dropna()\n",
    "prepare(romanticism_data, '../data/prepared/romantic.txt')"
   ]
  },
  {
   "cell_type": "code",
   "execution_count": 5,
   "metadata": {
    "collapsed": false
   },
   "outputs": [
    {
     "data": {
      "text/plain": [
       "2     abc/cd1f471606732412448ecafc853a2b68da0c95f8.abc\n",
       "4     abc/5e5c35310383699098841f2a7760a6f6e0a09a36.abc\n",
       "5     abc/7d0d99d532e9c92a6e5ee054bddf8a4cc6a22a1c.abc\n",
       "21    abc/9fa36529f99c7700aaa454ecb0bf020d87c871c3.abc\n",
       "55    abc/cae436575bba126ddd2c8013e3e527bff6638db3.abc\n",
       "Name: filename_abc, dtype: object"
      ]
     },
     "execution_count": 5,
     "metadata": {},
     "output_type": "execute_result"
    }
   ],
   "source": [
    "baroque_data = metadata[metadata['period'] == 'baroque']['filename_abc'].dropna()\n",
    "prepare(baroque_data, '../data/prepared/baroque.txt')"
   ]
  },
  {
   "cell_type": "code",
   "execution_count": 10,
   "metadata": {
    "collapsed": false
   },
   "outputs": [],
   "source": [
    "baroque_data = metadata[metadata['period'] == 'classicism']['filename_abc'].dropna()\n",
    "prepare(baroque_data, '../data/prepared/classicism.txt')"
   ]
  },
  {
   "cell_type": "code",
   "execution_count": 12,
   "metadata": {
    "collapsed": false
   },
   "outputs": [],
   "source": [
    "prepare(metadata['filename_abc'].dropna(), '../data/prepared/all_data.txt')"
   ]
  }
 ],
 "metadata": {
  "kernelspec": {
   "display_name": "Python 3",
   "language": "python",
   "name": "python3"
  },
  "language_info": {
   "codemirror_mode": {
    "name": "ipython",
    "version": 3
   },
   "file_extension": ".py",
   "mimetype": "text/x-python",
   "name": "python",
   "nbconvert_exporter": "python",
   "pygments_lexer": "ipython3",
   "version": "3.5.2"
  }
 },
 "nbformat": 4,
 "nbformat_minor": 0
}
