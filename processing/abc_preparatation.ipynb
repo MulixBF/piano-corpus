{
 "cells": [
  {
   "cell_type": "code",
   "execution_count": 19,
   "metadata": {
    "collapsed": true
   },
   "outputs": [],
   "source": [
    "import pandas as pd\n",
    "import music21 as m21\n",
    "import os\n",
    "import re"
   ]
  },
  {
   "cell_type": "code",
   "execution_count": 24,
   "metadata": {
    "collapsed": false
   },
   "outputs": [],
   "source": [
    "def get_header_line(lines, prefix):\n",
    "    return [l.replace(prefix, '').strip() for l in lines if l.startswith(prefix)][0]\n",
    "\n",
    "\n",
    "def parse_abc(filename):\n",
    "    filename = str(filename)\n",
    "    time_signature = None,\n",
    "    tempo = None,\n",
    "    part_count = None,\n",
    "    parts = None\n",
    "    first_part = None\n",
    "    part_start_lines = []\n",
    "    \n",
    "    if os.path.isfile(filename):\n",
    "        with open(filename, 'r') as f:\n",
    "            lines = f.readlines()\n",
    "            lines = [l for l in lines if not l.startswith('%')]\n",
    "            \n",
    "            time_signature = get_header_line(lines, 'M:')\n",
    "            tempo = get_header_line(lines, 'Q:')\n",
    "            \n",
    "            for index, line in enumerate(lines):\n",
    "                if line.startswith('V:'):\n",
    "                    part_start_lines.append(index)\n",
    "            \n",
    "            if part_start_lines:\n",
    "                part_start_lines.append(len(lines))\n",
    "                first_part = ''.join(lines[part_start_lines[0] + 1 : part_start_lines[1]])\n",
    "                first_part = re.sub('\\n', '', first_part)\n",
    "                first_part = re.sub('\\\\\\\\', '', first_part)\n",
    "                first_part = re.sub('|x\\d', '', first_part)\n",
    "                \n",
    "                \n",
    "    return pd.Series({\n",
    "       'time_signature': time_signature,\n",
    "       'tempo': tempo,\n",
    "       'part_count': len(part_start_lines),\n",
    "       'first_part': first_part\n",
    "    })"
   ]
  },
  {
   "cell_type": "code",
   "execution_count": 25,
   "metadata": {
    "collapsed": false
   },
   "outputs": [
    {
     "data": {
      "text/html": [
       "<div>\n",
       "<table border=\"1\" class=\"dataframe\">\n",
       "  <thead>\n",
       "    <tr style=\"text-align: right;\">\n",
       "      <th></th>\n",
       "      <th>composer</th>\n",
       "      <th>details_url</th>\n",
       "      <th>duration</th>\n",
       "      <th>filename_xml</th>\n",
       "      <th>genre</th>\n",
       "      <th>hasError</th>\n",
       "      <th>key</th>\n",
       "      <th>name</th>\n",
       "      <th>source_url</th>\n",
       "      <th>tempo</th>\n",
       "      <th>year</th>\n",
       "      <th>filename</th>\n",
       "      <th>filename_mid</th>\n",
       "      <th>filename_abc</th>\n",
       "      <th>year_exact</th>\n",
       "      <th>period</th>\n",
       "      <th>musical_form</th>\n",
       "      <th>secondary_time_signatures</th>\n",
       "      <th>time_signature</th>\n",
       "    </tr>\n",
       "  </thead>\n",
       "  <tbody>\n",
       "    <tr>\n",
       "      <th>0</th>\n",
       "      <td>adam</td>\n",
       "      <td>piece-info.cgi?id=897</td>\n",
       "      <td>72.000000</td>\n",
       "      <td>../output/xml/6e355a07d5531f372a2f7fb9ac084a12...</td>\n",
       "      <td>Classical</td>\n",
       "      <td>False</td>\n",
       "      <td>G major</td>\n",
       "      <td>Giselle - Pas de deux (1er Acte)</td>\n",
       "      <td>NaN</td>\n",
       "      <td>80</td>\n",
       "      <td>NaN</td>\n",
       "      <td>6e355a07d5531f372a2f7fb9ac084a120c34440a.mid</td>\n",
       "      <td>../output/mid/6e355a07d5531f372a2f7fb9ac084a12...</td>\n",
       "      <td>../output/abc/6e355a07d5531f372a2f7fb9ac084a12...</td>\n",
       "      <td>False</td>\n",
       "      <td>classical</td>\n",
       "      <td>NaN</td>\n",
       "      <td>NaN</td>\n",
       "      <td>2/4</td>\n",
       "    </tr>\n",
       "    <tr>\n",
       "      <th>1</th>\n",
       "      <td>albeniz</td>\n",
       "      <td>piece-info.cgi?id=898</td>\n",
       "      <td>262.000000</td>\n",
       "      <td>../output/xml/cf0e37cd297b4b030a506f1e1e2c6373...</td>\n",
       "      <td>Romantic</td>\n",
       "      <td>False</td>\n",
       "      <td>d minor</td>\n",
       "      <td>Rumores de la Caleta</td>\n",
       "      <td>NaN</td>\n",
       "      <td>60</td>\n",
       "      <td>1887</td>\n",
       "      <td>cf0e37cd297b4b030a506f1e1e2c637352dcc12d.mid</td>\n",
       "      <td>../output/mid/cf0e37cd297b4b030a506f1e1e2c6373...</td>\n",
       "      <td>../output/abc/cf0e37cd297b4b030a506f1e1e2c6373...</td>\n",
       "      <td>True</td>\n",
       "      <td>romantic</td>\n",
       "      <td>NaN</td>\n",
       "      <td>3/8; 4/4; 3/8; 4/4</td>\n",
       "      <td>3/4</td>\n",
       "    </tr>\n",
       "    <tr>\n",
       "      <th>2</th>\n",
       "      <td>andre</td>\n",
       "      <td>piece-info.cgi?id=207</td>\n",
       "      <td>95.769231</td>\n",
       "      <td>../output/xml/9235e4d8f77349089d45f475fb852ab7...</td>\n",
       "      <td>Classical</td>\n",
       "      <td>False</td>\n",
       "      <td>C major</td>\n",
       "      <td>Sonatine</td>\n",
       "      <td>NaN</td>\n",
       "      <td>104</td>\n",
       "      <td>1750</td>\n",
       "      <td>9235e4d8f77349089d45f475fb852ab71c954de8.mid</td>\n",
       "      <td>../output/mid/9235e4d8f77349089d45f475fb852ab7...</td>\n",
       "      <td>../output/abc/9235e4d8f77349089d45f475fb852ab7...</td>\n",
       "      <td>False</td>\n",
       "      <td>classical</td>\n",
       "      <td>NaN</td>\n",
       "      <td>2/4</td>\n",
       "      <td>2/2</td>\n",
       "    </tr>\n",
       "    <tr>\n",
       "      <th>3</th>\n",
       "      <td>anonymous</td>\n",
       "      <td>piece-info.cgi?id=679</td>\n",
       "      <td>33.626374</td>\n",
       "      <td>../output/xml/6ece453ca4108e48ea6e6d0fec699644...</td>\n",
       "      <td>Popular / Dance</td>\n",
       "      <td>False</td>\n",
       "      <td>D major</td>\n",
       "      <td>La Native</td>\n",
       "      <td>NaN</td>\n",
       "      <td>91</td>\n",
       "      <td>1860</td>\n",
       "      <td>6ece453ca4108e48ea6e6d0fec6996441adc09b5.mid</td>\n",
       "      <td>../output/mid/6ece453ca4108e48ea6e6d0fec699644...</td>\n",
       "      <td>../output/abc/6ece453ca4108e48ea6e6d0fec699644...</td>\n",
       "      <td>False</td>\n",
       "      <td>popular / dance</td>\n",
       "      <td>NaN</td>\n",
       "      <td>NaN</td>\n",
       "      <td>6/8</td>\n",
       "    </tr>\n",
       "    <tr>\n",
       "      <th>4</th>\n",
       "      <td>anonymous</td>\n",
       "      <td>piece-info.cgi?id=680</td>\n",
       "      <td>41.860465</td>\n",
       "      <td>../output/xml/96b2c5072caf99d739a42bad844e11b6...</td>\n",
       "      <td>Popular / Dance</td>\n",
       "      <td>False</td>\n",
       "      <td>G major</td>\n",
       "      <td>Les Graces</td>\n",
       "      <td>NaN</td>\n",
       "      <td>86</td>\n",
       "      <td>1860</td>\n",
       "      <td>96b2c5072caf99d739a42bad844e11b6003445aa.mid</td>\n",
       "      <td>../output/mid/96b2c5072caf99d739a42bad844e11b6...</td>\n",
       "      <td>../output/abc/96b2c5072caf99d739a42bad844e11b6...</td>\n",
       "      <td>False</td>\n",
       "      <td>popular / dance</td>\n",
       "      <td>NaN</td>\n",
       "      <td>NaN</td>\n",
       "      <td>6/8</td>\n",
       "    </tr>\n",
       "  </tbody>\n",
       "</table>\n",
       "</div>"
      ],
      "text/plain": [
       "    composer            details_url    duration  \\\n",
       "0       adam  piece-info.cgi?id=897   72.000000   \n",
       "1    albeniz  piece-info.cgi?id=898  262.000000   \n",
       "2      andre  piece-info.cgi?id=207   95.769231   \n",
       "3  anonymous  piece-info.cgi?id=679   33.626374   \n",
       "4  anonymous  piece-info.cgi?id=680   41.860465   \n",
       "\n",
       "                                        filename_xml            genre  \\\n",
       "0  ../output/xml/6e355a07d5531f372a2f7fb9ac084a12...        Classical   \n",
       "1  ../output/xml/cf0e37cd297b4b030a506f1e1e2c6373...         Romantic   \n",
       "2  ../output/xml/9235e4d8f77349089d45f475fb852ab7...        Classical   \n",
       "3  ../output/xml/6ece453ca4108e48ea6e6d0fec699644...  Popular / Dance   \n",
       "4  ../output/xml/96b2c5072caf99d739a42bad844e11b6...  Popular / Dance   \n",
       "\n",
       "  hasError      key                              name  source_url  tempo  \\\n",
       "0    False  G major  Giselle - Pas de deux (1er Acte)         NaN     80   \n",
       "1    False  d minor              Rumores de la Caleta         NaN     60   \n",
       "2    False  C major                          Sonatine         NaN    104   \n",
       "3    False  D major                         La Native         NaN     91   \n",
       "4    False  G major                        Les Graces         NaN     86   \n",
       "\n",
       "   year                                      filename  \\\n",
       "0   NaN  6e355a07d5531f372a2f7fb9ac084a120c34440a.mid   \n",
       "1  1887  cf0e37cd297b4b030a506f1e1e2c637352dcc12d.mid   \n",
       "2  1750  9235e4d8f77349089d45f475fb852ab71c954de8.mid   \n",
       "3  1860  6ece453ca4108e48ea6e6d0fec6996441adc09b5.mid   \n",
       "4  1860  96b2c5072caf99d739a42bad844e11b6003445aa.mid   \n",
       "\n",
       "                                        filename_mid  \\\n",
       "0  ../output/mid/6e355a07d5531f372a2f7fb9ac084a12...   \n",
       "1  ../output/mid/cf0e37cd297b4b030a506f1e1e2c6373...   \n",
       "2  ../output/mid/9235e4d8f77349089d45f475fb852ab7...   \n",
       "3  ../output/mid/6ece453ca4108e48ea6e6d0fec699644...   \n",
       "4  ../output/mid/96b2c5072caf99d739a42bad844e11b6...   \n",
       "\n",
       "                                        filename_abc year_exact  \\\n",
       "0  ../output/abc/6e355a07d5531f372a2f7fb9ac084a12...      False   \n",
       "1  ../output/abc/cf0e37cd297b4b030a506f1e1e2c6373...       True   \n",
       "2  ../output/abc/9235e4d8f77349089d45f475fb852ab7...      False   \n",
       "3  ../output/abc/6ece453ca4108e48ea6e6d0fec699644...      False   \n",
       "4  ../output/abc/96b2c5072caf99d739a42bad844e11b6...      False   \n",
       "\n",
       "            period musical_form secondary_time_signatures time_signature  \n",
       "0        classical          NaN                       NaN            2/4  \n",
       "1         romantic          NaN        3/8; 4/4; 3/8; 4/4            3/4  \n",
       "2        classical          NaN                       2/4            2/2  \n",
       "3  popular / dance          NaN                       NaN            6/8  \n",
       "4  popular / dance          NaN                       NaN            6/8  "
      ]
     },
     "execution_count": 25,
     "metadata": {},
     "output_type": "execute_result"
    }
   ],
   "source": [
    "metadata = pd.read_csv('../output/metadata.csv', index_col=0)\n",
    "metadata.head()"
   ]
  },
  {
   "cell_type": "code",
   "execution_count": 28,
   "metadata": {
    "collapsed": false
   },
   "outputs": [
    {
     "data": {
      "text/html": [
       "<div>\n",
       "<table border=\"1\" class=\"dataframe\">\n",
       "  <thead>\n",
       "    <tr style=\"text-align: right;\">\n",
       "      <th></th>\n",
       "      <th>first_part</th>\n",
       "      <th>part_count</th>\n",
       "      <th>tempo</th>\n",
       "      <th>time_signature</th>\n",
       "    </tr>\n",
       "  </thead>\n",
       "  <tbody>\n",
       "    <tr>\n",
       "      <th>0</th>\n",
       "      <td>None</td>\n",
       "      <td>0</td>\n",
       "      <td>1/4=120</td>\n",
       "      <td>4/4</td>\n",
       "    </tr>\n",
       "    <tr>\n",
       "      <th>1</th>\n",
       "      <td>None</td>\n",
       "      <td>0</td>\n",
       "      <td>1/4=120</td>\n",
       "      <td>4/4</td>\n",
       "    </tr>\n",
       "    <tr>\n",
       "      <th>2</th>\n",
       "      <td>None</td>\n",
       "      <td>0</td>\n",
       "      <td>1/4=120</td>\n",
       "      <td>4/4</td>\n",
       "    </tr>\n",
       "    <tr>\n",
       "      <th>3</th>\n",
       "      <td>None</td>\n",
       "      <td>0</td>\n",
       "      <td>1/4=120</td>\n",
       "      <td>4/4</td>\n",
       "    </tr>\n",
       "    <tr>\n",
       "      <th>4</th>\n",
       "      <td>None</td>\n",
       "      <td>0</td>\n",
       "      <td>1/4=120</td>\n",
       "      <td>4/4</td>\n",
       "    </tr>\n",
       "  </tbody>\n",
       "</table>\n",
       "</div>"
      ],
      "text/plain": [
       "  first_part  part_count    tempo time_signature\n",
       "0       None           0  1/4=120            4/4\n",
       "1       None           0  1/4=120            4/4\n",
       "2       None           0  1/4=120            4/4\n",
       "3       None           0  1/4=120            4/4\n",
       "4       None           0  1/4=120            4/4"
      ]
     },
     "execution_count": 28,
     "metadata": {},
     "output_type": "execute_result"
    }
   ],
   "source": [
    "abc_data = metadata['filename_abc'].str.replace('abc/', 'abc_merged/').apply(parse_abc)\n",
    "abc_data.head()"
   ]
  },
  {
   "cell_type": "code",
   "execution_count": 5,
   "metadata": {
    "collapsed": false
   },
   "outputs": [
    {
     "data": {
      "text/plain": [
       "Index(['composer', 'details_url', 'duration', 'filename_xml', 'genre',\n",
       "       'hasError', 'key', 'name', 'primary_time_signature',\n",
       "       'secondary_time_signatures', 'source_url', 'tempo', 'year', 'filename',\n",
       "       'filename_mid', 'filename_abc', 'Composer', 'year_exact', 'period',\n",
       "       'musical_form'],\n",
       "      dtype='object')"
      ]
     },
     "execution_count": 5,
     "metadata": {},
     "output_type": "execute_result"
    }
   ],
   "source": [
    "metadata.columns"
   ]
  },
  {
   "cell_type": "code",
   "execution_count": 26,
   "metadata": {
    "collapsed": false
   },
   "outputs": [],
   "source": [
    "metadata.to_csv('../data/output/metadata.csv', index=False)"
   ]
  },
  {
   "cell_type": "code",
   "execution_count": 72,
   "metadata": {
    "collapsed": false
   },
   "outputs": [],
   "source": [
    "with open('../data/prepared/44.txt', 'w') as f:\n",
    "    f.write(result)"
   ]
  },
  {
   "cell_type": "code",
   "execution_count": 25,
   "metadata": {
    "collapsed": false
   },
   "outputs": [],
   "source": [
    "BASEDIR = '../data/result/'\n",
    "\n",
    "def prepare(files, output, m=None):\n",
    "    with open(output, 'w') as output_file:\n",
    "        for i, input_filename in files.iteritems():\n",
    "            part_started = False\n",
    "            for line in open(BASEDIR + input_filename, 'r'):\n",
    "                line = line.replace('\\\\', '').strip()\n",
    "                \n",
    "                if line.startswith('%'):\n",
    "                    continue\n",
    "                \n",
    "                if m is not None and line.startswith('M:'):\n",
    "                    file_m = line.replace('M:', '').strip()\n",
    "                    if m != file_m:\n",
    "                        print('M: {0} != {1}'.format(m, file_m))\n",
    "                        break\n",
    "                        \n",
    "                if line.startswith('V:'):\n",
    "                    output_file.write('\\n')\n",
    "                    part_started = True\n",
    "                    continue\n",
    "                        \n",
    "                if part_started:\n",
    "                    if lines.startswith('V:'):\n",
    "                        break\n",
    "                        \n",
    "                    output_file.write(line)"
   ]
  },
  {
   "cell_type": "code",
   "execution_count": 25,
   "metadata": {
    "collapsed": false
   },
   "outputs": [],
   "source": [
    "prepare(metadata['filename_abc'].dropna(), '../data/prepared/all.txt', m=None)"
   ]
  },
  {
   "cell_type": "code",
   "execution_count": 6,
   "metadata": {
    "collapsed": false
   },
   "outputs": [
    {
     "data": {
      "text/plain": [
       "0     abc/859c17427b612d62aac51ab14ad809c7ff62d722.abc\n",
       "1     abc/c05aff259adc395acca7cb42cff8b941f63dfb0a.abc\n",
       "13    abc/27c5556cf82b3420c9bd407dcbd8dbcf544f1470.abc\n",
       "22    abc/bd5b0d48c4f11614d12af67eb5d03d964070845e.abc\n",
       "23    abc/9f900dd904c27e2c0864b028071015cb4d967d4f.abc\n",
       "Name: filename_abc, dtype: object"
      ]
     },
     "execution_count": 6,
     "metadata": {},
     "output_type": "execute_result"
    }
   ],
   "source": [
    "romanticism_data = metadata[metadata['period'] == 'romanticism']['filename_abc'].dropna()\n",
    "prepare(romanticism_data, '../data/prepared/romantic.txt')"
   ]
  },
  {
   "cell_type": "code",
   "execution_count": 5,
   "metadata": {
    "collapsed": false
   },
   "outputs": [
    {
     "data": {
      "text/plain": [
       "2     abc/cd1f471606732412448ecafc853a2b68da0c95f8.abc\n",
       "4     abc/5e5c35310383699098841f2a7760a6f6e0a09a36.abc\n",
       "5     abc/7d0d99d532e9c92a6e5ee054bddf8a4cc6a22a1c.abc\n",
       "21    abc/9fa36529f99c7700aaa454ecb0bf020d87c871c3.abc\n",
       "55    abc/cae436575bba126ddd2c8013e3e527bff6638db3.abc\n",
       "Name: filename_abc, dtype: object"
      ]
     },
     "execution_count": 5,
     "metadata": {},
     "output_type": "execute_result"
    }
   ],
   "source": [
    "baroque_data = metadata[metadata['period'] == 'baroque']['filename_abc'].dropna()\n",
    "prepare(baroque_data, '../data/prepared/baroque.txt')"
   ]
  },
  {
   "cell_type": "code",
   "execution_count": 10,
   "metadata": {
    "collapsed": false
   },
   "outputs": [],
   "source": [
    "baroque_data = metadata[metadata['period'] == 'classicism']['filename_abc'].dropna()\n",
    "prepare(baroque_data, '../data/prepared/classicism.txt')"
   ]
  },
  {
   "cell_type": "code",
   "execution_count": 12,
   "metadata": {
    "collapsed": false
   },
   "outputs": [],
   "source": [
    "prepare(metadata['filename_abc'].dropna(), '../data/prepared/all_data.txt')"
   ]
  }
 ],
 "metadata": {
  "kernelspec": {
   "display_name": "Python 3",
   "language": "python",
   "name": "python3"
  },
  "language_info": {
   "codemirror_mode": {
    "name": "ipython",
    "version": 3
   },
   "file_extension": ".py",
   "mimetype": "text/x-python",
   "name": "python",
   "nbconvert_exporter": "python",
   "pygments_lexer": "ipython3",
   "version": "3.5.2"
  }
 },
 "nbformat": 4,
 "nbformat_minor": 0
}
