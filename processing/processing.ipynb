{
 "cells": [
  {
   "cell_type": "code",
   "execution_count": 1,
   "metadata": {
    "collapsed": false
   },
   "outputs": [],
   "source": [
    "import pandas as pd\n",
    "import numpy as np\n",
    "import datetime\n",
    "import json\n",
    "import time\n",
    "import os\n",
    "import music21 as m21\n",
    "from music21.key import Key\n",
    "from music21.interval import Interval\n",
    "from music21.pitch import Pitch\n",
    "from music21.converter import parseFile\n",
    "\n",
    "MSCORE_PATH = '/usr/bin/mscore'\n",
    "LILYPOND_PATH = '/usr/bin/lilypond'\n",
    "\n",
    "settings = m21.environment.UserSettings()\n",
    "\n",
    "settings['musicxmlPath'] = MSCORE_PATH\n",
    "settings['musescoreDirectPNGPath'] = MSCORE_PATH\n",
    "\n",
    "%load_ext music21.ipython21"
   ]
  },
  {
   "cell_type": "code",
   "execution_count": 2,
   "metadata": {
    "collapsed": false
   },
   "outputs": [
    {
     "name": "stderr",
     "output_type": "stream",
     "text": [
      "info\n"
     ]
    }
   ],
   "source": [
    "import logging\n",
    "import imp\n",
    "\n",
    "imp.reload(logging)\n",
    "logging.basicConfig(format='%(levelname)s:%(message)s', level=logging.DEBUG)\n",
    "\n",
    "logger = logging.getLogger()\n",
    "logger.handlers.clear()\n",
    "\n",
    "#file handler\n",
    "log_filename = datetime.datetime.now().strftime('%Y%m%d_%H%M%S_processing.log')\n",
    "fh = logging.FileHandler('../logs/' + log_filename)\n",
    "fh.setLevel(logging.DEBUG)\n",
    "logger.addHandler(fh)\n",
    "\n",
    "#console handler\n",
    "ch = logging.StreamHandler()\n",
    "ch.setLevel(logging.INFO)\n",
    "logger.addHandler(ch)\n",
    "\n",
    "logger.debug('debug')\n",
    "logger.info('info')"
   ]
  },
  {
   "cell_type": "code",
   "execution_count": 3,
   "metadata": {
    "collapsed": false
   },
   "outputs": [],
   "source": [
    "def extract_filename(row):\n",
    "    filename, url = parse_descriptor(row['files'])\n",
    "    return pd.Series({ 'filename': filename, 'url': url })"
   ]
  },
  {
   "cell_type": "code",
   "execution_count": 4,
   "metadata": {
    "collapsed": false
   },
   "outputs": [],
   "source": [
    "def parse_descriptor(files_string):\n",
    "    try:\n",
    "        descriptors = json.loads(files_string.replace(\"'\", '\"'))\n",
    "    except ValueError as e:\n",
    "        logger.error('... files bad descriptor: %s', files_string)\n",
    "        raise\n",
    "        \n",
    "    if(len(descriptors) > 1):\n",
    "        logger.warn('Descriptor contains several files: %s', files_string)\n",
    "        \n",
    "    filename = os.path.basename(descriptors[0]['path'])\n",
    "    filename = filename.replace('.krn&f=midi', '.mid')\n",
    "    url = descriptors[0]['url']\n",
    "    \n",
    "    return filename, url"
   ]
  },
  {
   "cell_type": "code",
   "execution_count": 5,
   "metadata": {
    "collapsed": false
   },
   "outputs": [],
   "source": [
    "def process_file_descriptors(dataframe):\n",
    "    descriptor_data = pd.DataFrame(dataframe.apply(extract_filename, axis=1))\n",
    "    return pd.concat([dataframe, descriptor_data], axis=1)"
   ]
  },
  {
   "cell_type": "code",
   "execution_count": 6,
   "metadata": {
    "collapsed": true
   },
   "outputs": [],
   "source": [
    "def load_dataframe(metadata_path, files_path):\n",
    "    dataframe = pd.read_csv(metadata_path, dtype=str)\n",
    "    dataframe['input_dir'] = files_path\n",
    "    dataframe = dataframe[~dataframe['files'].isnull()]\n",
    "    dataframe = process_file_descriptors(dataframe)\n",
    "    dataframe = dataframe.fillna('')\n",
    "    return dataframe[dataframe['filename'].str.endswith('.mid', na=False)]"
   ]
  },
  {
   "cell_type": "code",
   "execution_count": 7,
   "metadata": {
    "collapsed": false
   },
   "outputs": [],
   "source": [
    "kern_data = load_dataframe('../data/kernscores.csv', '../data/files_kernscores/')"
   ]
  },
  {
   "cell_type": "code",
   "execution_count": 8,
   "metadata": {
    "collapsed": false
   },
   "outputs": [],
   "source": [
    "matched_instruments = [\n",
    "    'Piano', \n",
    "    'Harpsichord,Piano', \n",
    "    'Harpsichord,Piano,Clavichord',\n",
    "    'Piano Duet',\n",
    "    'Harpsichord,Clavichord,Piano',\n",
    "    'Piano,Harpsichord'\n",
    "]\n",
    "\n",
    "mutopia_data = load_dataframe('../data/mutopia.csv', '../data/files_mutopia/') \n",
    "mutopia_data = mutopia_data[mutopia_data['instruments'].isin(matched_instruments)]"
   ]
  },
  {
   "cell_type": "code",
   "execution_count": 9,
   "metadata": {
    "collapsed": false
   },
   "outputs": [],
   "source": [
    "pianomidi_data = load_dataframe('../data/pianomidi.csv', '../data/files_pianomidi/') "
   ]
  },
  {
   "cell_type": "code",
   "execution_count": 10,
   "metadata": {
    "collapsed": false
   },
   "outputs": [],
   "source": [
    "def call_safe(func, args, default=None):\n",
    "    try:\n",
    "        return func(*args)\n",
    "    except Exception as e:\n",
    "        logger.exception(e)\n",
    "        return default"
   ]
  },
  {
   "cell_type": "code",
   "execution_count": 11,
   "metadata": {
    "collapsed": false
   },
   "outputs": [],
   "source": [
    "def normalize(score, key_str):\n",
    "    key = m21.key.Key(key_str.split()[0])\n",
    "    \n",
    "    if key.mode == 'major':\n",
    "        i = Interval(key.tonic, Pitch('C'))\n",
    "\n",
    "    elif key.mode == 'minor':\n",
    "        i = Interval(key.tonic, Pitch('A'))\n",
    "        \n",
    "    score.transpose(i, inPlace=True)"
   ]
  },
  {
   "cell_type": "code",
   "execution_count": 12,
   "metadata": {
    "collapsed": false
   },
   "outputs": [],
   "source": [
    "def update_metadata(score, score_metadata):\n",
    "    if score.metadata is None:\n",
    "        score.metadata = m21.stream.metadata.Metadata()\n",
    "        \n",
    "    score.metadata.composer = score_metadata['composer']\n",
    "    score.metadata.title = score_metadata['name']\n",
    "    score.metadata.movementName = score_metadata['name']\n",
    "    \n",
    "    try:\n",
    "        score.metadata.date = score_metadata['year']\n",
    "    except:\n",
    "        pass"
   ]
  },
  {
   "cell_type": "code",
   "execution_count": 13,
   "metadata": {
    "collapsed": false
   },
   "outputs": [],
   "source": [
    "def extract_time_signatures(score):\n",
    "    for part in score.parts:\n",
    "        time_signatures = [m.timeSignature for m in part.getElementsByClass(m21.stream.Measure) if m.timeSignature is not None]\n",
    "        if time_signatures:\n",
    "            return [ts.ratioString for ts in time_signatures]\n",
    "    \n",
    "    return [None]"
   ]
  },
  {
   "cell_type": "code",
   "execution_count": null,
   "metadata": {
    "collapsed": false
   },
   "outputs": [],
   "source": [
    "# Hard way to extract duration:\n",
    "# metronome_data = pd.DataFrame(score.metronomeMarkBoundaries(), columns=['start', 'end', 'tempo'])\n",
    "# metronome_data['duration'] = metronome_data['end'] - metronome_data['start']\n",
    "# metronome_data['bpm'] = metronome_data['tempo'].map(lambda x: x.number)\n",
    "# metronome_data['weighted_duration'] = metronome_data['bpm'] * metronome_data['duration']\n",
    "# tempo = metronome_data['weighted_duration'].sum() /  metronome_data['duration'].sum()\n",
    "# tempo"
   ]
  },
  {
   "cell_type": "code",
   "execution_count": 14,
   "metadata": {
    "collapsed": false
   },
   "outputs": [],
   "source": [
    "def extract_stats(score):\n",
    "    key_signature = score.analyze('key')\n",
    "    primary_ts, *alternative_ts = call_safe(extract_time_signatures, [score], default=[None])\n",
    "    duration = call_safe(lambda s: max([x['endTimeSeconds'] for x in s.secondsMap]), [score])      \n",
    "    tempo = call_safe(lambda s: s.metronomeMarkBoundaries()[0][2].number, [score]) \n",
    "        \n",
    "    \n",
    "    return {\n",
    "        'key': str(key_signature),\n",
    "        'primary_time_signature': primary_ts,\n",
    "        'secondary_time_signatures': alternative_ts,\n",
    "        'duration': duration,\n",
    "        'tempo': tempo\n",
    "    }"
   ]
  },
  {
   "cell_type": "code",
   "execution_count": 15,
   "metadata": {
    "collapsed": true
   },
   "outputs": [],
   "source": [
    "def set_extension(filename, new_ext):\n",
    "    base, ext = os.path.splitext(filename)\n",
    "    return base + '.' + new_ext"
   ]
  },
  {
   "cell_type": "code",
   "execution_count": 16,
   "metadata": {
    "collapsed": true
   },
   "outputs": [],
   "source": [
    "def parse_file(input_path):\n",
    "    _, ext = os.path.splitext(input_path)\n",
    "    if ext != '.xml' and ext != '.mxl':\n",
    "        tmp_path = input_path + '.tmp.xml'\n",
    "        subprocess.call('mscore \"{0}\" -o \"{1}\"'.format(input_path, tmp_path), shell=True)\n",
    "        return m21.converter.parseFile(tmp_path)\n",
    "    else:\n",
    "        return m21.converter.parseFile(input_path)"
   ]
  },
  {
   "cell_type": "code",
   "execution_count": null,
   "metadata": {
    "collapsed": true
   },
   "outputs": [],
   "source": [
    "def convert_to_abc():\n",
    "    "
   ]
  },
  {
   "cell_type": "code",
   "execution_count": 17,
   "metadata": {
    "collapsed": false
   },
   "outputs": [],
   "source": [
    "import os\n",
    "import json\n",
    "import subprocess\n",
    "    \n",
    "def process_row(row, output_dir, global_time_started):\n",
    "    hasError = False\n",
    "    output_path = None\n",
    "    key_signature = None\n",
    "    primary_ts = None\n",
    "    alternative_ts = None\n",
    "    url = None\n",
    "    score_stats = {\n",
    "        'key': None,\n",
    "        'primary_time_signature': None,\n",
    "        'secondary_time_signatures': None,\n",
    "        'duration': None,\n",
    "        'tempo': None\n",
    "    }\n",
    "    \n",
    "    try:\n",
    "        logger.debug('Processing %s...', row['name'])\n",
    "        time_started = time.time()\n",
    "        \n",
    "        input_path = os.path.join(row['input_dir'], row['filename'])\n",
    "        output_path = os.path.join(output_dir, set_extension(row['filename'], 'xml'))\n",
    "        \n",
    "        score = parse_file(input_path)\n",
    "        logger.debug('\\t...file parsed')\n",
    "        \n",
    "        score_stats = extract_stats(score)\n",
    "        logger.debug('\\t...stats extractes: %s', json.dumps(score_stats))\n",
    "    \n",
    "        normalize(score, score_stats['key'])\n",
    "        update_metadata(score, row)\n",
    "        logger.debug('\\t...score normalized and updated')\n",
    "        \n",
    "        score.write('musicxml', output_path)\n",
    "        logger.debug('\\t...file processed. Processing time: %s', time.time() - time_started)\n",
    "        logger.info('Processed file %i. Time elapsed %s', row.name, time.time() - global_time_started)\n",
    "        \n",
    "    except Exception as e:\n",
    "        logger.error('Exception occured')\n",
    "        logger.debug('Exception details: ', exc_info=e)\n",
    "        hasError = True\n",
    "        \n",
    "    return pd.Series({\n",
    "            'genre': row['genre'],\n",
    "            'input_dir': row['input_dir'],\n",
    "            'details_url': row['details_url'],\n",
    "            'filename_mid' : row['filename'],\n",
    "            'name': row['name'],\n",
    "            'year': row['year'],\n",
    "            'composer': row['composer'],\n",
    "            'filename_xml': output_path,\n",
    "            'source_url': url,\n",
    "            'key': score_stats['key'],\n",
    "            'primary_time_signature': score_stats['primary_time_signature'],\n",
    "            'secondary_time_signatures': score_stats['secondary_time_signatures'],\n",
    "            'duration': score_stats['duration'],\n",
    "            'tempo': score_stats['tempo'],\n",
    "            'hasError': hasError\n",
    "        })"
   ]
  },
  {
   "cell_type": "code",
   "execution_count": 18,
   "metadata": {
    "collapsed": true
   },
   "outputs": [],
   "source": [
    "import time\n",
    "\n",
    "def process_dataframe(dataframe, output_dir):\n",
    "    time_started = time.time()\n",
    "    total_rows = len(dataframe.index)\n",
    "    logger.info('Processing files in dataframe. Total items: %i', total_rows)\n",
    "    result = dataframe.apply(lambda row: process_row(row, '../data/output/', time_started), axis=1)\n",
    "    logger.info('Finished processing dataframe')\n",
    "        \n",
    "    return result"
   ]
  },
  {
   "cell_type": "code",
   "execution_count": 20,
   "metadata": {
    "collapsed": false
   },
   "outputs": [
    {
     "data": {
      "text/html": [
       "<div>\n",
       "<table border=\"1\" class=\"dataframe\">\n",
       "  <thead>\n",
       "    <tr style=\"text-align: right;\">\n",
       "      <th></th>\n",
       "      <th>catalogue_code</th>\n",
       "      <th>composer</th>\n",
       "      <th>details_url</th>\n",
       "      <th>file_urls</th>\n",
       "      <th>filename</th>\n",
       "      <th>files</th>\n",
       "      <th>genre</th>\n",
       "      <th>input_dir</th>\n",
       "      <th>instruments</th>\n",
       "      <th>key</th>\n",
       "      <th>name</th>\n",
       "      <th>tags</th>\n",
       "      <th>url</th>\n",
       "      <th>year</th>\n",
       "    </tr>\n",
       "  </thead>\n",
       "  <tbody>\n",
       "    <tr>\n",
       "      <th>count</th>\n",
       "      <td>1171</td>\n",
       "      <td>1171</td>\n",
       "      <td>1171</td>\n",
       "      <td>1171</td>\n",
       "      <td>1171</td>\n",
       "      <td>1171</td>\n",
       "      <td>1171</td>\n",
       "      <td>1171</td>\n",
       "      <td>1171</td>\n",
       "      <td>1171</td>\n",
       "      <td>1171</td>\n",
       "      <td>1171</td>\n",
       "      <td>1171</td>\n",
       "      <td>1171</td>\n",
       "    </tr>\n",
       "    <tr>\n",
       "      <th>unique</th>\n",
       "      <td>302</td>\n",
       "      <td>100</td>\n",
       "      <td>864</td>\n",
       "      <td>1171</td>\n",
       "      <td>1171</td>\n",
       "      <td>1171</td>\n",
       "      <td>13</td>\n",
       "      <td>3</td>\n",
       "      <td>7</td>\n",
       "      <td>26</td>\n",
       "      <td>981</td>\n",
       "      <td>1</td>\n",
       "      <td>1171</td>\n",
       "      <td>151</td>\n",
       "    </tr>\n",
       "    <tr>\n",
       "      <th>top</th>\n",
       "      <td></td>\n",
       "      <td>J. S. Bach</td>\n",
       "      <td>http://www.piano-midi.de/chopin.htm</td>\n",
       "      <td>http://www.mutopiaproject.org/ftp/MozartWA/KV3...</td>\n",
       "      <td>1f69c791b88c81e64558f358786a8a46d1b68477.mid</td>\n",
       "      <td>[{'checksum': '620895a014c1f7913dc3ecada3f86ff...</td>\n",
       "      <td>Baroque</td>\n",
       "      <td>../data/files_mutopia/</td>\n",
       "      <td>Piano</td>\n",
       "      <td></td>\n",
       "      <td>Prelude</td>\n",
       "      <td></td>\n",
       "      <td>http://www.mutopiaproject.org/ftp/MozartWA/KV3...</td>\n",
       "      <td></td>\n",
       "    </tr>\n",
       "    <tr>\n",
       "      <th>freq</th>\n",
       "      <td>423</td>\n",
       "      <td>114</td>\n",
       "      <td>48</td>\n",
       "      <td>1</td>\n",
       "      <td>1</td>\n",
       "      <td>1</td>\n",
       "      <td>237</td>\n",
       "      <td>573</td>\n",
       "      <td>748</td>\n",
       "      <td>1075</td>\n",
       "      <td>53</td>\n",
       "      <td>1171</td>\n",
       "      <td>1</td>\n",
       "      <td>359</td>\n",
       "    </tr>\n",
       "  </tbody>\n",
       "</table>\n",
       "</div>"
      ],
      "text/plain": [
       "       catalogue_code    composer                          details_url  \\\n",
       "count            1171        1171                                 1171   \n",
       "unique            302         100                                  864   \n",
       "top                    J. S. Bach  http://www.piano-midi.de/chopin.htm   \n",
       "freq              423         114                                   48   \n",
       "\n",
       "                                                file_urls  \\\n",
       "count                                                1171   \n",
       "unique                                               1171   \n",
       "top     http://www.mutopiaproject.org/ftp/MozartWA/KV3...   \n",
       "freq                                                    1   \n",
       "\n",
       "                                            filename  \\\n",
       "count                                           1171   \n",
       "unique                                          1171   \n",
       "top     1f69c791b88c81e64558f358786a8a46d1b68477.mid   \n",
       "freq                                               1   \n",
       "\n",
       "                                                    files    genre  \\\n",
       "count                                                1171     1171   \n",
       "unique                                               1171       13   \n",
       "top     [{'checksum': '620895a014c1f7913dc3ecada3f86ff...  Baroque   \n",
       "freq                                                    1      237   \n",
       "\n",
       "                     input_dir instruments   key     name  tags  \\\n",
       "count                     1171        1171  1171     1171  1171   \n",
       "unique                       3           7    26      981     1   \n",
       "top     ../data/files_mutopia/       Piano        Prelude         \n",
       "freq                       573         748  1075       53  1171   \n",
       "\n",
       "                                                      url  year  \n",
       "count                                                1171  1171  \n",
       "unique                                               1171   151  \n",
       "top     http://www.mutopiaproject.org/ftp/MozartWA/KV3...        \n",
       "freq                                                    1   359  "
      ]
     },
     "execution_count": 20,
     "metadata": {},
     "output_type": "execute_result"
    }
   ],
   "source": [
    "dataset = pd.concat([mutopia_data, kern_data, pianomidi_data])\n",
    "dataset.reset_index(inplace=True)\n",
    "del dataset['index']\n",
    "dataset.describe()"
   ]
  },
  {
   "cell_type": "code",
   "execution_count": 21,
   "metadata": {
    "collapsed": false,
    "scrolled": true
   },
   "outputs": [
    {
     "name": "stderr",
     "output_type": "stream",
     "text": [
      "processing chunk 0 to 100\n",
      "Processing files in dataframe. Total items: 100\n",
      "Exception occured\n",
      "Exception occured\n"
     ]
    },
    {
     "ename": "NameError",
     "evalue": "(\"name 'rowp' is not defined\", 'occurred at index 0')",
     "output_type": "error",
     "traceback": [
      "\u001b[0;31m---------------------------------------------------------------------------\u001b[0m",
      "\u001b[0;31mNameError\u001b[0m                                 Traceback (most recent call last)",
      "\u001b[0;32m<ipython-input-21-c391a381f67b>\u001b[0m in \u001b[0;36m<module>\u001b[0;34m()\u001b[0m\n\u001b[1;32m      5\u001b[0m     \u001b[0mchunk\u001b[0m \u001b[0;34m=\u001b[0m \u001b[0mdataset\u001b[0m\u001b[0;34m[\u001b[0m\u001b[0mi\u001b[0m\u001b[0;34m:\u001b[0m\u001b[0mi\u001b[0m\u001b[0;34m+\u001b[0m\u001b[0mCHUNK_SIZE\u001b[0m\u001b[0;34m]\u001b[0m\u001b[0;34m\u001b[0m\u001b[0m\n\u001b[1;32m      6\u001b[0m     \u001b[0mlogger\u001b[0m\u001b[0;34m.\u001b[0m\u001b[0minfo\u001b[0m\u001b[0;34m(\u001b[0m\u001b[0;34m'processing chunk {0} to {1}'\u001b[0m\u001b[0;34m.\u001b[0m\u001b[0mformat\u001b[0m\u001b[0;34m(\u001b[0m\u001b[0mi\u001b[0m\u001b[0;34m,\u001b[0m \u001b[0mi\u001b[0m\u001b[0;34m+\u001b[0m\u001b[0mCHUNK_SIZE\u001b[0m\u001b[0;34m)\u001b[0m\u001b[0;34m)\u001b[0m\u001b[0;34m\u001b[0m\u001b[0m\n\u001b[0;32m----> 7\u001b[0;31m     \u001b[0mmetadata\u001b[0m \u001b[0;34m=\u001b[0m \u001b[0mpd\u001b[0m\u001b[0;34m.\u001b[0m\u001b[0mconcat\u001b[0m\u001b[0;34m(\u001b[0m\u001b[0;34m[\u001b[0m\u001b[0mmetadata\u001b[0m\u001b[0;34m,\u001b[0m \u001b[0mprocess_dataframe\u001b[0m\u001b[0;34m(\u001b[0m\u001b[0mchunk\u001b[0m\u001b[0;34m,\u001b[0m \u001b[0;34m'../data/output/xml'\u001b[0m\u001b[0;34m)\u001b[0m\u001b[0;34m]\u001b[0m\u001b[0;34m)\u001b[0m\u001b[0;34m\u001b[0m\u001b[0m\n\u001b[0m\u001b[1;32m      8\u001b[0m     \u001b[0mmetadata\u001b[0m\u001b[0;34m.\u001b[0m\u001b[0mto_csv\u001b[0m\u001b[0;34m(\u001b[0m\u001b[0;34m'metatada.backup.{0}.csv'\u001b[0m\u001b[0;34m.\u001b[0m\u001b[0mformat\u001b[0m\u001b[0;34m(\u001b[0m\u001b[0mi\u001b[0m\u001b[0;34m)\u001b[0m\u001b[0;34m)\u001b[0m\u001b[0;34m\u001b[0m\u001b[0m\n\u001b[1;32m      9\u001b[0m     \u001b[0mlogger\u001b[0m\u001b[0;34m.\u001b[0m\u001b[0minfo\u001b[0m\u001b[0;34m(\u001b[0m\u001b[0;34m'...done'\u001b[0m\u001b[0;34m)\u001b[0m\u001b[0;34m\u001b[0m\u001b[0m\n",
      "\u001b[0;32m<ipython-input-18-5cdea0c6c040>\u001b[0m in \u001b[0;36mprocess_dataframe\u001b[0;34m(dataframe, output_dir)\u001b[0m\n\u001b[1;32m      5\u001b[0m     \u001b[0mtotal_rows\u001b[0m \u001b[0;34m=\u001b[0m \u001b[0mlen\u001b[0m\u001b[0;34m(\u001b[0m\u001b[0mdataframe\u001b[0m\u001b[0;34m.\u001b[0m\u001b[0mindex\u001b[0m\u001b[0;34m)\u001b[0m\u001b[0;34m\u001b[0m\u001b[0m\n\u001b[1;32m      6\u001b[0m     \u001b[0mlogger\u001b[0m\u001b[0;34m.\u001b[0m\u001b[0minfo\u001b[0m\u001b[0;34m(\u001b[0m\u001b[0;34m'Processing files in dataframe. Total items: %i'\u001b[0m\u001b[0;34m,\u001b[0m \u001b[0mtotal_rows\u001b[0m\u001b[0;34m)\u001b[0m\u001b[0;34m\u001b[0m\u001b[0m\n\u001b[0;32m----> 7\u001b[0;31m     \u001b[0mresult\u001b[0m \u001b[0;34m=\u001b[0m \u001b[0mdataframe\u001b[0m\u001b[0;34m.\u001b[0m\u001b[0mapply\u001b[0m\u001b[0;34m(\u001b[0m\u001b[0;32mlambda\u001b[0m \u001b[0mrow\u001b[0m\u001b[0;34m:\u001b[0m \u001b[0mprocess_row\u001b[0m\u001b[0;34m(\u001b[0m\u001b[0mrow\u001b[0m\u001b[0;34m,\u001b[0m \u001b[0;34m'../data/output/'\u001b[0m\u001b[0;34m,\u001b[0m \u001b[0mtime_started\u001b[0m\u001b[0;34m)\u001b[0m\u001b[0;34m,\u001b[0m \u001b[0maxis\u001b[0m\u001b[0;34m=\u001b[0m\u001b[0;36m1\u001b[0m\u001b[0;34m)\u001b[0m\u001b[0;34m\u001b[0m\u001b[0m\n\u001b[0m\u001b[1;32m      8\u001b[0m     \u001b[0mlogger\u001b[0m\u001b[0;34m.\u001b[0m\u001b[0minfo\u001b[0m\u001b[0;34m(\u001b[0m\u001b[0;34m'Finished processing dataframe'\u001b[0m\u001b[0;34m)\u001b[0m\u001b[0;34m\u001b[0m\u001b[0m\n\u001b[1;32m      9\u001b[0m \u001b[0;34m\u001b[0m\u001b[0m\n",
      "\u001b[0;32m/usr/lib/python3.5/site-packages/pandas/core/frame.py\u001b[0m in \u001b[0;36mapply\u001b[0;34m(self, func, axis, broadcast, raw, reduce, args, **kwds)\u001b[0m\n\u001b[1;32m   3912\u001b[0m                     \u001b[0;32mif\u001b[0m \u001b[0mreduce\u001b[0m \u001b[0;32mis\u001b[0m \u001b[0;32mNone\u001b[0m\u001b[0;34m:\u001b[0m\u001b[0;34m\u001b[0m\u001b[0m\n\u001b[1;32m   3913\u001b[0m                         \u001b[0mreduce\u001b[0m \u001b[0;34m=\u001b[0m \u001b[0;32mTrue\u001b[0m\u001b[0;34m\u001b[0m\u001b[0m\n\u001b[0;32m-> 3914\u001b[0;31m                     \u001b[0;32mreturn\u001b[0m \u001b[0mself\u001b[0m\u001b[0;34m.\u001b[0m\u001b[0m_apply_standard\u001b[0m\u001b[0;34m(\u001b[0m\u001b[0mf\u001b[0m\u001b[0;34m,\u001b[0m \u001b[0maxis\u001b[0m\u001b[0;34m,\u001b[0m \u001b[0mreduce\u001b[0m\u001b[0;34m=\u001b[0m\u001b[0mreduce\u001b[0m\u001b[0;34m)\u001b[0m\u001b[0;34m\u001b[0m\u001b[0m\n\u001b[0m\u001b[1;32m   3915\u001b[0m             \u001b[0;32melse\u001b[0m\u001b[0;34m:\u001b[0m\u001b[0;34m\u001b[0m\u001b[0m\n\u001b[1;32m   3916\u001b[0m                 \u001b[0;32mreturn\u001b[0m \u001b[0mself\u001b[0m\u001b[0;34m.\u001b[0m\u001b[0m_apply_broadcast\u001b[0m\u001b[0;34m(\u001b[0m\u001b[0mf\u001b[0m\u001b[0;34m,\u001b[0m \u001b[0maxis\u001b[0m\u001b[0;34m)\u001b[0m\u001b[0;34m\u001b[0m\u001b[0m\n",
      "\u001b[0;32m/usr/lib/python3.5/site-packages/pandas/core/frame.py\u001b[0m in \u001b[0;36m_apply_standard\u001b[0;34m(self, func, axis, ignore_failures, reduce)\u001b[0m\n\u001b[1;32m   4004\u001b[0m             \u001b[0;32mtry\u001b[0m\u001b[0;34m:\u001b[0m\u001b[0;34m\u001b[0m\u001b[0m\n\u001b[1;32m   4005\u001b[0m                 \u001b[0;32mfor\u001b[0m \u001b[0mi\u001b[0m\u001b[0;34m,\u001b[0m \u001b[0mv\u001b[0m \u001b[0;32min\u001b[0m \u001b[0menumerate\u001b[0m\u001b[0;34m(\u001b[0m\u001b[0mseries_gen\u001b[0m\u001b[0;34m)\u001b[0m\u001b[0;34m:\u001b[0m\u001b[0;34m\u001b[0m\u001b[0m\n\u001b[0;32m-> 4006\u001b[0;31m                     \u001b[0mresults\u001b[0m\u001b[0;34m[\u001b[0m\u001b[0mi\u001b[0m\u001b[0;34m]\u001b[0m \u001b[0;34m=\u001b[0m \u001b[0mfunc\u001b[0m\u001b[0;34m(\u001b[0m\u001b[0mv\u001b[0m\u001b[0;34m)\u001b[0m\u001b[0;34m\u001b[0m\u001b[0m\n\u001b[0m\u001b[1;32m   4007\u001b[0m                     \u001b[0mkeys\u001b[0m\u001b[0;34m.\u001b[0m\u001b[0mappend\u001b[0m\u001b[0;34m(\u001b[0m\u001b[0mv\u001b[0m\u001b[0;34m.\u001b[0m\u001b[0mname\u001b[0m\u001b[0;34m)\u001b[0m\u001b[0;34m\u001b[0m\u001b[0m\n\u001b[1;32m   4008\u001b[0m             \u001b[0;32mexcept\u001b[0m \u001b[0mException\u001b[0m \u001b[0;32mas\u001b[0m \u001b[0me\u001b[0m\u001b[0;34m:\u001b[0m\u001b[0;34m\u001b[0m\u001b[0m\n",
      "\u001b[0;32m<ipython-input-18-5cdea0c6c040>\u001b[0m in \u001b[0;36m<lambda>\u001b[0;34m(row)\u001b[0m\n\u001b[1;32m      5\u001b[0m     \u001b[0mtotal_rows\u001b[0m \u001b[0;34m=\u001b[0m \u001b[0mlen\u001b[0m\u001b[0;34m(\u001b[0m\u001b[0mdataframe\u001b[0m\u001b[0;34m.\u001b[0m\u001b[0mindex\u001b[0m\u001b[0;34m)\u001b[0m\u001b[0;34m\u001b[0m\u001b[0m\n\u001b[1;32m      6\u001b[0m     \u001b[0mlogger\u001b[0m\u001b[0;34m.\u001b[0m\u001b[0minfo\u001b[0m\u001b[0;34m(\u001b[0m\u001b[0;34m'Processing files in dataframe. Total items: %i'\u001b[0m\u001b[0;34m,\u001b[0m \u001b[0mtotal_rows\u001b[0m\u001b[0;34m)\u001b[0m\u001b[0;34m\u001b[0m\u001b[0m\n\u001b[0;32m----> 7\u001b[0;31m     \u001b[0mresult\u001b[0m \u001b[0;34m=\u001b[0m \u001b[0mdataframe\u001b[0m\u001b[0;34m.\u001b[0m\u001b[0mapply\u001b[0m\u001b[0;34m(\u001b[0m\u001b[0;32mlambda\u001b[0m \u001b[0mrow\u001b[0m\u001b[0;34m:\u001b[0m \u001b[0mprocess_row\u001b[0m\u001b[0;34m(\u001b[0m\u001b[0mrow\u001b[0m\u001b[0;34m,\u001b[0m \u001b[0;34m'../data/output/'\u001b[0m\u001b[0;34m,\u001b[0m \u001b[0mtime_started\u001b[0m\u001b[0;34m)\u001b[0m\u001b[0;34m,\u001b[0m \u001b[0maxis\u001b[0m\u001b[0;34m=\u001b[0m\u001b[0;36m1\u001b[0m\u001b[0;34m)\u001b[0m\u001b[0;34m\u001b[0m\u001b[0m\n\u001b[0m\u001b[1;32m      8\u001b[0m     \u001b[0mlogger\u001b[0m\u001b[0;34m.\u001b[0m\u001b[0minfo\u001b[0m\u001b[0;34m(\u001b[0m\u001b[0;34m'Finished processing dataframe'\u001b[0m\u001b[0;34m)\u001b[0m\u001b[0;34m\u001b[0m\u001b[0m\n\u001b[1;32m      9\u001b[0m \u001b[0;34m\u001b[0m\u001b[0m\n",
      "\u001b[0;32m<ipython-input-17-92db9fd8b758>\u001b[0m in \u001b[0;36mprocess_row\u001b[0;34m(row, output_dir, global_time_started)\u001b[0m\n\u001b[1;32m     48\u001b[0m             \u001b[0;34m'input_dir'\u001b[0m\u001b[0;34m:\u001b[0m \u001b[0mrow\u001b[0m\u001b[0;34m[\u001b[0m\u001b[0;34m'input_dir'\u001b[0m\u001b[0;34m]\u001b[0m\u001b[0;34m,\u001b[0m\u001b[0;34m\u001b[0m\u001b[0m\n\u001b[1;32m     49\u001b[0m             \u001b[0;34m'details_url'\u001b[0m\u001b[0;34m:\u001b[0m \u001b[0mrow\u001b[0m\u001b[0;34m[\u001b[0m\u001b[0;34m'details_url'\u001b[0m\u001b[0;34m]\u001b[0m\u001b[0;34m,\u001b[0m\u001b[0;34m\u001b[0m\u001b[0m\n\u001b[0;32m---> 50\u001b[0;31m             \u001b[0;34m'filename_mid'\u001b[0m \u001b[0;34m:\u001b[0m \u001b[0mrowp\u001b[0m\u001b[0;34m[\u001b[0m\u001b[0;34m'filename'\u001b[0m\u001b[0;34m]\u001b[0m\u001b[0;34m,\u001b[0m\u001b[0;34m\u001b[0m\u001b[0m\n\u001b[0m\u001b[1;32m     51\u001b[0m             \u001b[0;34m'name'\u001b[0m\u001b[0;34m:\u001b[0m \u001b[0mrow\u001b[0m\u001b[0;34m[\u001b[0m\u001b[0;34m'name'\u001b[0m\u001b[0;34m]\u001b[0m\u001b[0;34m,\u001b[0m\u001b[0;34m\u001b[0m\u001b[0m\n\u001b[1;32m     52\u001b[0m             \u001b[0;34m'year'\u001b[0m\u001b[0;34m:\u001b[0m \u001b[0mrow\u001b[0m\u001b[0;34m[\u001b[0m\u001b[0;34m'year'\u001b[0m\u001b[0;34m]\u001b[0m\u001b[0;34m,\u001b[0m\u001b[0;34m\u001b[0m\u001b[0m\n",
      "\u001b[0;31mNameError\u001b[0m: (\"name 'rowp' is not defined\", 'occurred at index 0')"
     ]
    }
   ],
   "source": [
    "metadata = pd.DataFrame()\n",
    "CHUNK_SIZE = 100\n",
    "\n",
    "for i in range(0, len(dataset.index), CHUNK_SIZE):\n",
    "    chunk = dataset[i:i+CHUNK_SIZE]\n",
    "    logger.info('processing chunk {0} to {1}'.format(i, i+CHUNK_SIZE))\n",
    "    metadata = pd.concat([metadata, process_dataframe(chunk, '../data/output/xml')])\n",
    "    metadata.to_csv('metatada.backup.{0}.csv'.format(i))\n",
    "    logger.info('...done')"
   ]
  },
  {
   "cell_type": "code",
   "execution_count": null,
   "metadata": {
    "collapsed": true
   },
   "outputs": [],
   "source": [
    "def get_filename_abc(input_filename):\n",
    "    output_file, _ = os.path.splitext(os.path.basename(input_filename))\n",
    "    return '../data/output/abc/' +  output_file + '.abc'"
   ]
  },
  {
   "cell_type": "code",
   "execution_count": 68,
   "metadata": {
    "collapsed": false
   },
   "outputs": [],
   "source": [
    "def get_semitones_to_cdur(key):\n",
    "    try:\n",
    "        if key.mode == 'major':\n",
    "            interval = m21.interval.Interval(key.tonic, m21.pitch.Pitch('C'))\n",
    "            semitones = interval.semitones if interval.semitones < 6 else 12 - interval.semitones\n",
    "            return semitones\n",
    "        if key.mode == 'minor':\n",
    "            interval = m21.interval.Interval(key.tonic, m21.pitch.Pitch('A'))\n",
    "            semitones = interval.semitones if interval.semitones < 6 else 12 - interval.semitones\n",
    "            return semitones\n",
    "    except:\n",
    "        pass\n",
    "    \n",
    "    logger.error('Bad key: %s', key)\n",
    "    return None"
   ]
  },
  {
   "cell_type": "code",
   "execution_count": 84,
   "metadata": {
    "collapsed": false
   },
   "outputs": [],
   "source": [
    "import subprocess\n",
    "\n",
    "def normalize_abc(filename):\n",
    "    basename = os.path.basename(filename)\n",
    "    \n",
    "    if not os.path.isfile(filename):\n",
    "        logger.warning()\n",
    "        return\n",
    "    \n",
    "    score = m21.converter.parseFile(filename)\n",
    "    key_signature = score.analyze('key')\n",
    "    semitones = get_semitones_to_cdur(key_signature)\n",
    "    \n",
    "    command = 'abc2abc \"{0}\" -t {1} > \"../output/abc_transposed/{2}\"'.format(filename, semitones, basename)\n",
    "    subprocess.call(command, shell=True)"
   ]
  },
  {
   "cell_type": "code",
   "execution_count": 88,
   "metadata": {
    "collapsed": false,
    "scrolled": true
   },
   "outputs": [],
   "source": [
    "normalize_abc(\"../output/abc/537688d173f52c3a7fd3371a57cdec22d5661285.abc\")"
   ]
  },
  {
   "cell_type": "code",
   "execution_count": 90,
   "metadata": {
    "collapsed": false
   },
   "outputs": [
    {
     "name": "stdout",
     "output_type": "stream",
     "text": [
      "/usr/bin/sh: ../output/abc_transposed/537688d173f52c3a7fd3371a57cdec22d5661285.abc: No such file or directory\r\n"
     ]
    }
   ],
   "source": [
    "! abc2abc \"../output/abc/537688d173f52c3a7fd3371a57cdec22d5661285.abc\" -t 4 > \"../output/abc_transposed/537688d173f52c3a7fd3371a57cdec22d5661285.abc\""
   ]
  },
  {
   "cell_type": "code",
   "execution_count": 91,
   "metadata": {
    "collapsed": false,
    "scrolled": false
   },
   "outputs": [
    {
     "name": "stdout",
     "output_type": "stream",
     "text": [
      "Processed 0 files out of 2187\n",
      "Processed 100 files out of 2187\n",
      "Processed 200 files out of 2187\n",
      "Processed 300 files out of 2187\n",
      "Processed 400 files out of 2187\n",
      "Processed 500 files out of 2187\n",
      "Processed 600 files out of 2187\n",
      "Processed 700 files out of 2187\n",
      "Processed 800 files out of 2187\n",
      "Processed 900 files out of 2187\n",
      "Processed 1000 files out of 2187\n",
      "Processed 1100 files out of 2187\n"
     ]
    },
    {
     "ename": "TypeError",
     "evalue": "warning() missing 1 required positional argument: 'msg'",
     "output_type": "error",
     "traceback": [
      "\u001b[0;31m---------------------------------------------------------------------------\u001b[0m",
      "\u001b[0;31mTypeError\u001b[0m                                 Traceback (most recent call last)",
      "\u001b[0;32m<ipython-input-91-9fe5a3005adb>\u001b[0m in \u001b[0;36m<module>\u001b[0;34m()\u001b[0m\n\u001b[1;32m      1\u001b[0m \u001b[0;32mfor\u001b[0m \u001b[0mindex\u001b[0m\u001b[0;34m,\u001b[0m \u001b[0mrow\u001b[0m \u001b[0;32min\u001b[0m \u001b[0mmetadata\u001b[0m\u001b[0;34m.\u001b[0m\u001b[0miterrows\u001b[0m\u001b[0;34m(\u001b[0m\u001b[0;34m)\u001b[0m\u001b[0;34m:\u001b[0m\u001b[0;34m\u001b[0m\u001b[0m\n\u001b[1;32m      2\u001b[0m     \u001b[0mfilename\u001b[0m \u001b[0;34m=\u001b[0m \u001b[0mrow\u001b[0m\u001b[0;34m[\u001b[0m\u001b[0;34m'filename_abc'\u001b[0m\u001b[0;34m]\u001b[0m\u001b[0;34m\u001b[0m\u001b[0m\n\u001b[0;32m----> 3\u001b[0;31m     \u001b[0mnormalize_abc\u001b[0m\u001b[0;34m(\u001b[0m\u001b[0mfilename\u001b[0m\u001b[0;34m)\u001b[0m\u001b[0;34m\u001b[0m\u001b[0m\n\u001b[0m\u001b[1;32m      4\u001b[0m     \u001b[0;32mif\u001b[0m \u001b[0mindex\u001b[0m \u001b[0;34m%\u001b[0m \u001b[0;36m100\u001b[0m \u001b[0;34m==\u001b[0m \u001b[0;36m0\u001b[0m\u001b[0;34m:\u001b[0m\u001b[0;34m\u001b[0m\u001b[0m\n\u001b[1;32m      5\u001b[0m         \u001b[0mprint\u001b[0m\u001b[0;34m(\u001b[0m\u001b[0;34m'\\rProcessed {0} files out of {1}'\u001b[0m\u001b[0;34m.\u001b[0m\u001b[0mformat\u001b[0m\u001b[0;34m(\u001b[0m\u001b[0mindex\u001b[0m\u001b[0;34m,\u001b[0m \u001b[0mlen\u001b[0m\u001b[0;34m(\u001b[0m\u001b[0mmetadata\u001b[0m\u001b[0;34m.\u001b[0m\u001b[0mindex\u001b[0m\u001b[0;34m)\u001b[0m\u001b[0;34m)\u001b[0m\u001b[0;34m)\u001b[0m\u001b[0;34m\u001b[0m\u001b[0m\n",
      "\u001b[0;32m<ipython-input-84-88c3784529b2>\u001b[0m in \u001b[0;36mnormalize_abc\u001b[0;34m(filename)\u001b[0m\n\u001b[1;32m      5\u001b[0m \u001b[0;34m\u001b[0m\u001b[0m\n\u001b[1;32m      6\u001b[0m     \u001b[0;32mif\u001b[0m \u001b[0;32mnot\u001b[0m \u001b[0mos\u001b[0m\u001b[0;34m.\u001b[0m\u001b[0mpath\u001b[0m\u001b[0;34m.\u001b[0m\u001b[0misfile\u001b[0m\u001b[0;34m(\u001b[0m\u001b[0mfilename\u001b[0m\u001b[0;34m)\u001b[0m\u001b[0;34m:\u001b[0m\u001b[0;34m\u001b[0m\u001b[0m\n\u001b[0;32m----> 7\u001b[0;31m         \u001b[0mlogger\u001b[0m\u001b[0;34m.\u001b[0m\u001b[0mwarning\u001b[0m\u001b[0;34m(\u001b[0m\u001b[0;34m)\u001b[0m\u001b[0;34m\u001b[0m\u001b[0m\n\u001b[0m\u001b[1;32m      8\u001b[0m         \u001b[0;32mreturn\u001b[0m\u001b[0;34m\u001b[0m\u001b[0m\n\u001b[1;32m      9\u001b[0m \u001b[0;34m\u001b[0m\u001b[0m\n",
      "\u001b[0;31mTypeError\u001b[0m: warning() missing 1 required positional argument: 'msg'"
     ]
    }
   ],
   "source": [
    "for index, row in metadata.iterrows():\n",
    "    filename = row['filename_abc']\n",
    "    normalize_abc(filename)\n",
    "    if index % 100 == 0:\n",
    "        print('\\rProcessed {0} files out of {1}'.format(index, len(metadata.index)))"
   ]
  },
  {
   "cell_type": "code",
   "execution_count": null,
   "metadata": {
    "collapsed": false
   },
   "outputs": [],
   "source": [
    "# checks\n",
    "metadata = metadata[~metadata['hasError']]   \n",
    "\n",
    "if not all(metadata['filename_abc'].map(lambda fname: os.path.isfile(fname))):\n",
    "    logger.error('missing abc files!')\n",
    "    \n",
    "if not all(metadata['filename_xml'].map(lambda fname: os.path.isfile(fname))):\n",
    "    logger.error('missing xml files!')\n",
    "    \n",
    "if not all(metadata['filename_mid'].map(lambda fname: os.path.isfile(fname))):\n",
    "    logger.error('missing mid files!')"
   ]
  },
  {
   "cell_type": "code",
   "execution_count": 5,
   "metadata": {
    "collapsed": false
   },
   "outputs": [],
   "source": [
    "metadata = pd.read_csv('../output/metadata.csv')"
   ]
  },
  {
   "cell_type": "code",
   "execution_count": 15,
   "metadata": {
    "collapsed": true
   },
   "outputs": [],
   "source": [
    "metadata['time_signature'] = None\n",
    "metadata['secondary_time_signatures'] = None"
   ]
  },
  {
   "cell_type": "code",
   "execution_count": 16,
   "metadata": {
    "collapsed": true
   },
   "outputs": [],
   "source": [
    "def parse_time_signature(row):\n",
    "    if row['time_signature'] is not None:\n",
    "        return pd.Series({\n",
    "            'time_signature': row['time_signature'],\n",
    "            'secondary_time_signatures': row['secondary_time_signatures']\n",
    "        })\n",
    "    \n",
    "    filename = row['filename_xml']\n",
    "    score = m21.converter.parseFile(filename)\n",
    "    primary_ts, *alternative_ts = call_safe(extract_time_signatures, [score], default=[None])\n",
    "    logger.debug('%s: extracted primary time signature: %s', filename, primary_ts)\n",
    "    return pd.Series({\n",
    "            'time_signature': primary_ts,\n",
    "            'secondary_time_signatures': '; '.join(alternative_ts)\n",
    "        })"
   ]
  },
  {
   "cell_type": "code",
   "execution_count": 17,
   "metadata": {
    "collapsed": false
   },
   "outputs": [],
   "source": [
    "result = metadata.apply(parse_time_signature, axis=1)"
   ]
  },
  {
   "cell_type": "code",
   "execution_count": 20,
   "metadata": {
    "collapsed": false
   },
   "outputs": [
    {
     "data": {
      "text/plain": [
       "0    2/4\n",
       "1    3/4\n",
       "2    2/2\n",
       "3    6/8\n",
       "4    6/8\n",
       "Name: primary_time_signature, dtype: object"
      ]
     },
     "execution_count": 20,
     "metadata": {},
     "output_type": "execute_result"
    }
   ],
   "source": [
    "head()"
   ]
  },
  {
   "cell_type": "code",
   "execution_count": 23,
   "metadata": {
    "collapsed": false
   },
   "outputs": [],
   "source": [
    "del metadata['primary_time_signature']"
   ]
  },
  {
   "cell_type": "code",
   "execution_count": 25,
   "metadata": {
    "collapsed": false
   },
   "outputs": [],
   "source": [
    "del metadata['secondary_time_signatures']\n",
    "del metadata['time_signature']\n",
    "metadata = pd.concat([metadata, result], axis=1)"
   ]
  },
  {
   "cell_type": "code",
   "execution_count": 26,
   "metadata": {
    "collapsed": false
   },
   "outputs": [
    {
     "data": {
      "text/html": [
       "<div>\n",
       "<table border=\"1\" class=\"dataframe\">\n",
       "  <thead>\n",
       "    <tr style=\"text-align: right;\">\n",
       "      <th></th>\n",
       "      <th>duration</th>\n",
       "      <th>hasError</th>\n",
       "      <th>source_url</th>\n",
       "      <th>tempo</th>\n",
       "      <th>year</th>\n",
       "      <th>year_exact</th>\n",
       "    </tr>\n",
       "  </thead>\n",
       "  <tbody>\n",
       "    <tr>\n",
       "      <th>count</th>\n",
       "      <td>2187.000000</td>\n",
       "      <td>2187</td>\n",
       "      <td>0</td>\n",
       "      <td>2187.000000</td>\n",
       "      <td>822.000000</td>\n",
       "      <td>2187</td>\n",
       "    </tr>\n",
       "    <tr>\n",
       "      <th>mean</th>\n",
       "      <td>223.170912</td>\n",
       "      <td>0</td>\n",
       "      <td>NaN</td>\n",
       "      <td>115.157293</td>\n",
       "      <td>1819.451338</td>\n",
       "      <td>0.275263</td>\n",
       "    </tr>\n",
       "    <tr>\n",
       "      <th>std</th>\n",
       "      <td>221.959010</td>\n",
       "      <td>0</td>\n",
       "      <td>NaN</td>\n",
       "      <td>42.066431</td>\n",
       "      <td>60.970446</td>\n",
       "      <td>0.446749</td>\n",
       "    </tr>\n",
       "    <tr>\n",
       "      <th>min</th>\n",
       "      <td>8.727273</td>\n",
       "      <td>False</td>\n",
       "      <td>NaN</td>\n",
       "      <td>18.000000</td>\n",
       "      <td>1720.000000</td>\n",
       "      <td>False</td>\n",
       "    </tr>\n",
       "    <tr>\n",
       "      <th>25%</th>\n",
       "      <td>90.000000</td>\n",
       "      <td>0</td>\n",
       "      <td>NaN</td>\n",
       "      <td>84.000000</td>\n",
       "      <td>1775.000000</td>\n",
       "      <td>0</td>\n",
       "    </tr>\n",
       "    <tr>\n",
       "      <th>50%</th>\n",
       "      <td>160.761450</td>\n",
       "      <td>0</td>\n",
       "      <td>NaN</td>\n",
       "      <td>112.000000</td>\n",
       "      <td>1828.000000</td>\n",
       "      <td>0</td>\n",
       "    </tr>\n",
       "    <tr>\n",
       "      <th>75%</th>\n",
       "      <td>272.497926</td>\n",
       "      <td>0</td>\n",
       "      <td>NaN</td>\n",
       "      <td>141.000000</td>\n",
       "      <td>1850.000000</td>\n",
       "      <td>1</td>\n",
       "    </tr>\n",
       "    <tr>\n",
       "      <th>max</th>\n",
       "      <td>2156.893319</td>\n",
       "      <td>False</td>\n",
       "      <td>NaN</td>\n",
       "      <td>300.000000</td>\n",
       "      <td>2008.000000</td>\n",
       "      <td>True</td>\n",
       "    </tr>\n",
       "  </tbody>\n",
       "</table>\n",
       "</div>"
      ],
      "text/plain": [
       "          duration hasError  source_url        tempo         year year_exact\n",
       "count  2187.000000     2187           0  2187.000000   822.000000       2187\n",
       "mean    223.170912        0         NaN   115.157293  1819.451338   0.275263\n",
       "std     221.959010        0         NaN    42.066431    60.970446   0.446749\n",
       "min       8.727273    False         NaN    18.000000  1720.000000      False\n",
       "25%      90.000000        0         NaN    84.000000  1775.000000          0\n",
       "50%     160.761450        0         NaN   112.000000  1828.000000          0\n",
       "75%     272.497926        0         NaN   141.000000  1850.000000          1\n",
       "max    2156.893319    False         NaN   300.000000  2008.000000       True"
      ]
     },
     "execution_count": 26,
     "metadata": {},
     "output_type": "execute_result"
    }
   ],
   "source": [
    "metadata.describe()"
   ]
  },
  {
   "cell_type": "code",
   "execution_count": 24,
   "metadata": {
    "collapsed": false
   },
   "outputs": [
    {
     "data": {
      "text/html": [
       "<div>\n",
       "<table border=\"1\" class=\"dataframe\">\n",
       "  <thead>\n",
       "    <tr style=\"text-align: right;\">\n",
       "      <th></th>\n",
       "      <th>filename_abc</th>\n",
       "      <th>key</th>\n",
       "    </tr>\n",
       "  </thead>\n",
       "  <tbody>\n",
       "    <tr>\n",
       "      <th>0</th>\n",
       "      <td>../output/abc/6e355a07d5531f372a2f7fb9ac084a12...</td>\n",
       "      <td>G major</td>\n",
       "    </tr>\n",
       "    <tr>\n",
       "      <th>1</th>\n",
       "      <td>../output/abc/cf0e37cd297b4b030a506f1e1e2c6373...</td>\n",
       "      <td>d minor</td>\n",
       "    </tr>\n",
       "    <tr>\n",
       "      <th>2</th>\n",
       "      <td>../output/abc/9235e4d8f77349089d45f475fb852ab7...</td>\n",
       "      <td>C major</td>\n",
       "    </tr>\n",
       "    <tr>\n",
       "      <th>3</th>\n",
       "      <td>../output/abc/6ece453ca4108e48ea6e6d0fec699644...</td>\n",
       "      <td>D major</td>\n",
       "    </tr>\n",
       "    <tr>\n",
       "      <th>4</th>\n",
       "      <td>../output/abc/96b2c5072caf99d739a42bad844e11b6...</td>\n",
       "      <td>G major</td>\n",
       "    </tr>\n",
       "  </tbody>\n",
       "</table>\n",
       "</div>"
      ],
      "text/plain": [
       "                                        filename_abc      key\n",
       "0  ../output/abc/6e355a07d5531f372a2f7fb9ac084a12...  G major\n",
       "1  ../output/abc/cf0e37cd297b4b030a506f1e1e2c6373...  d minor\n",
       "2  ../output/abc/9235e4d8f77349089d45f475fb852ab7...  C major\n",
       "3  ../output/abc/6ece453ca4108e48ea6e6d0fec699644...  D major\n",
       "4  ../output/abc/96b2c5072caf99d739a42bad844e11b6...  G major"
      ]
     },
     "execution_count": 24,
     "metadata": {},
     "output_type": "execute_result"
    }
   ],
   "source": [
    "metadata[['filename_abc', 'key']].head()"
   ]
  },
  {
   "cell_type": "code",
   "execution_count": 23,
   "metadata": {
    "collapsed": true
   },
   "outputs": [],
   "source": [
    "metadata = pd.read_csv('../output/metadata.csv', index_col=0)"
   ]
  },
  {
   "cell_type": "code",
   "execution_count": null,
   "metadata": {
    "collapsed": true
   },
   "outputs": [],
   "source": []
  }
 ],
 "metadata": {
  "kernelspec": {
   "display_name": "Python 3",
   "language": "python",
   "name": "python3"
  },
  "language_info": {
   "codemirror_mode": {
    "name": "ipython",
    "version": 3
   },
   "file_extension": ".py",
   "mimetype": "text/x-python",
   "name": "python",
   "nbconvert_exporter": "python",
   "pygments_lexer": "ipython3",
   "version": "3.5.2"
  }
 },
 "nbformat": 4,
 "nbformat_minor": 0
}
