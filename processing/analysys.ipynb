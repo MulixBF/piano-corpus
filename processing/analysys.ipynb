{
 "cells": [
  {
   "cell_type": "code",
   "execution_count": 7,
   "metadata": {
    "collapsed": true
   },
   "outputs": [],
   "source": [
    "import pandas as pd\n",
    "import numpy as np\n",
    "%matplotlib inline"
   ]
  },
  {
   "cell_type": "code",
   "execution_count": 2,
   "metadata": {
    "collapsed": true
   },
   "outputs": [],
   "source": [
    "data = pd.read_csv('data/normalized/metadata.csv')"
   ]
  },
  {
   "cell_type": "code",
   "execution_count": 15,
   "metadata": {
    "collapsed": false
   },
   "outputs": [
    {
     "data": {
      "text/plain": [
       "1196"
      ]
     },
     "execution_count": 15,
     "metadata": {},
     "output_type": "execute_result"
    }
   ],
   "source": [
    "# data count\n",
    "\n",
    "len(data.index)"
   ]
  },
  {
   "cell_type": "code",
   "execution_count": 4,
   "metadata": {
    "collapsed": false
   },
   "outputs": [
    {
     "data": {
      "text/plain": [
       "composer\n",
       "bach           223\n",
       "chopin         116\n",
       "mozart         114\n",
       "beethoven       96\n",
       "traditional     57\n",
       "schumann        52\n",
       "schubert        38\n",
       "haydn           37\n",
       "diabelli        36\n",
       "joplin          25\n",
       "grieg           22\n",
       "handel          21\n",
       "clementi        21\n",
       "liszt           20\n",
       "czerny          19\n",
       "tchaikovsky     19\n",
       "burgmuller      19\n",
       "verdi           19\n",
       "debussy         17\n",
       "scriabin        17\n",
       "Name: composer, dtype: int64"
      ]
     },
     "execution_count": 4,
     "metadata": {},
     "output_type": "execute_result"
    }
   ],
   "source": [
    "# top 20 composers\n",
    "data.groupby(by='composer')['composer'].count().sort_values(ascending=False)[:20]"
   ]
  },
  {
   "cell_type": "code",
   "execution_count": 5,
   "metadata": {
    "collapsed": false
   },
   "outputs": [
    {
     "data": {
      "text/plain": [
       "key\n",
       "A major      50\n",
       "A- major     37\n",
       "B major      17\n",
       "B- major     69\n",
       "C major     116\n",
       "C# major     35\n",
       "D major      78\n",
       "E major      35\n",
       "E- major     52\n",
       "F major      87\n",
       "F# major     24\n",
       "G major      98\n",
       "a minor      75\n",
       "b minor      25\n",
       "b- minor     16\n",
       "c minor      52\n",
       "c# minor     33\n",
       "d minor      73\n",
       "e minor      44\n",
       "e- minor     16\n",
       "f minor      33\n",
       "f# minor     18\n",
       "g minor      60\n",
       "g# minor     15\n",
       "Name: key, dtype: int64"
      ]
     },
     "execution_count": 5,
     "metadata": {},
     "output_type": "execute_result"
    }
   ],
   "source": [
    "# original musical keys\n",
    "data.groupby(by='key')['key'].count()"
   ]
  },
  {
   "cell_type": "code",
   "execution_count": 8,
   "metadata": {
    "collapsed": false
   },
   "outputs": [
    {
     "data": {
      "text/plain": [
       "<matplotlib.axes._subplots.AxesSubplot at 0x7f127c165358>"
      ]
     },
     "execution_count": 8,
     "metadata": {},
     "output_type": "execute_result"
    },
    {
     "data": {
      "image/png": "[encoded data removed]",
      "text/plain": [
       "<matplotlib.figure.Figure at 0x7f1290a986d8>"
      ]
     },
     "metadata": {},
     "output_type": "display_data"
    }
   ],
   "source": [
    "data['year'].hist(bins=30, )"
   ]
  },
  {
   "cell_type": "code",
   "execution_count": 12,
   "metadata": {
    "collapsed": false
   },
   "outputs": [
    {
     "data": {
      "text/plain": [
       "period\n",
       "baroque        249\n",
       "classicism     253\n",
       "folk            58\n",
       "jazz            26\n",
       "modern          54\n",
       "romanticism    412\n",
       "Name: period, dtype: int64"
      ]
     },
     "execution_count": 12,
     "metadata": {},
     "output_type": "execute_result"
    }
   ],
   "source": [
    "data.groupby(by='period')['period'].count()"
   ]
  },
  {
   "cell_type": "code",
   "execution_count": 13,
   "metadata": {
    "collapsed": false
   },
   "outputs": [
    {
     "data": {
      "text/plain": [
       "musical_form\n",
       "ballad         5\n",
       "canon          5\n",
       "etude         50\n",
       "fantasia      16\n",
       "fugue         57\n",
       "march         13\n",
       "mazurka       25\n",
       "nocturne       7\n",
       "polonaise      5\n",
       "prelude      139\n",
       "rag           17\n",
       "rhapsod        6\n",
       "rondo          6\n",
       "sonata       243\n",
       "sonatina      20\n",
       "song          27\n",
       "suite         27\n",
       "technique     20\n",
       "valse          5\n",
       "Name: musical_form, dtype: int64"
      ]
     },
     "execution_count": 13,
     "metadata": {},
     "output_type": "execute_result"
    }
   ],
   "source": [
    "data.groupby(by='musical_form')['musical_form'].count()"
   ]
  }
 ],
 "metadata": {
  "kernelspec": {
   "display_name": "Python 3",
   "language": "python",
   "name": "python3"
  },
  "language_info": {
   "codemirror_mode": {
    "name": "ipython",
    "version": 3
   },
   "file_extension": ".py",
   "mimetype": "text/x-python",
   "name": "python",
   "nbconvert_exporter": "python",
   "pygments_lexer": "ipython3",
   "version": "3.5.1"
  }
 },
 "nbformat": 4,
 "nbformat_minor": 0
}
